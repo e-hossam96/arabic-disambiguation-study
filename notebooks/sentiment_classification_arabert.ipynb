{
 "cells": [
  {
   "cell_type": "code",
   "execution_count": 1,
   "metadata": {
    "tags": []
   },
   "outputs": [],
   "source": [
    "import os\n",
    "import glob\n",
    "import wandb\n",
    "import torch\n",
    "import random\n",
    "import numpy as np\n",
    "import pandas as pd\n",
    "from rich import print\n",
    "from pathlib import Path\n",
    "from tqdm.auto import tqdm\n",
    "from dotenv import load_dotenv\n",
    "from collections import defaultdict\n",
    "from huggingface_hub import login"
   ]
  },
  {
   "cell_type": "code",
   "execution_count": 2,
   "metadata": {
    "tags": []
   },
   "outputs": [],
   "source": [
    "from datasets import Dataset, DatasetDict\n",
    "\n",
    "import transformers\n",
    "from transformers import AutoTokenizer\n",
    "from transformers import AutoModelForSequenceClassification\n",
    "from transformers import DataCollatorWithPadding\n",
    "from transformers import TrainingArguments, Trainer\n",
    "\n",
    "import seaborn as sns\n",
    "import matplotlib.pyplot as plt\n",
    "\n",
    "from sklearn.metrics import accuracy_score, f1_score\n",
    "from sklearn.metrics import classification_report\n",
    "from sklearn.metrics import precision_score, recall_score\n",
    "from sklearn.metrics import confusion_matrix\n",
    "from sklearn.metrics import ConfusionMatrixDisplay"
   ]
  },
  {
   "cell_type": "code",
   "execution_count": 3,
   "metadata": {
    "tags": []
   },
   "outputs": [],
   "source": [
    "sns.set_theme(context='notebook', style='dark')\n",
    "tqdm.pandas()"
   ]
  },
  {
   "cell_type": "code",
   "execution_count": 4,
   "metadata": {
    "tags": []
   },
   "outputs": [],
   "source": [
    "# fix random seed\n",
    "seed = 42\n",
    "\n",
    "random.seed(seed)\n",
    "\n",
    "np.random.seed(seed)\n",
    "\n",
    "torch.manual_seed(seed)\n",
    "torch.cuda.manual_seed(seed)\n",
    "torch.cuda.manual_seed_all(seed)\n",
    "torch.backends.cudnn.deterministic = True\n",
    "torch.backends.cudnn.benchmark = False\n",
    "\n",
    "transformers.set_seed(seed)"
   ]
  },
  {
   "cell_type": "code",
   "execution_count": 5,
   "metadata": {},
   "outputs": [],
   "source": [
    "# wandb configs\n",
    "PROJECT_NAME = 'ARABIC_DISAMBIGUATION_STUDY'\n",
    "JOB_TYPE = 'MODELING'\n",
    "TAGS = ['MODELING', 'TRANSFORMERS', 'ARABERT', 'CLASSIFICATION', 'DISAMBIGUATION']\n",
    "NOTES = 'Transformers modeling using AraBERT'\n",
    "RUN_NAME = 'AraBERT_Sentiment_Classification_Modeling_Disambg'\n",
    "config = defaultdict(dict)\n",
    "config['Disambiguation'] = True"
   ]
  },
  {
   "cell_type": "code",
   "execution_count": 6,
   "metadata": {
    "tags": []
   },
   "outputs": [],
   "source": [
    "to_use_artifact_name = 'Sentiment-Classification-Dataset:latest'\n",
    "model_ckpt = 'aubmindlab/bert-base-arabertv2'\n",
    "data_ckpt = 'ArSen-20'\n",
    "model_name = f'{model_ckpt.split(\"/\")[-1]}-{data_ckpt}'\n",
    "model_path = Path(f'../models/{model_name}')"
   ]
  },
  {
   "cell_type": "code",
   "execution_count": 7,
   "metadata": {
    "tags": []
   },
   "outputs": [
    {
     "data": {
      "text/html": [
       "<pre style=\"white-space:pre;overflow-x:auto;line-height:normal;font-family:Menlo,'DejaVu Sans Mono',consolas,'Courier New',monospace\">..<span style=\"color: #800080; text-decoration-color: #800080\">/models/</span><span style=\"color: #ff00ff; text-decoration-color: #ff00ff\">bert-base-arabertv2-ArSen-20</span>\n",
       "</pre>\n"
      ],
      "text/plain": [
       "..\u001b[35m/models/\u001b[0m\u001b[95mbert-base-arabertv2-ArSen-20\u001b[0m\n"
      ]
     },
     "metadata": {},
     "output_type": "display_data"
    }
   ],
   "source": [
    "print(model_path)"
   ]
  },
  {
   "cell_type": "code",
   "execution_count": 8,
   "metadata": {
    "tags": []
   },
   "outputs": [
    {
     "name": "stderr",
     "output_type": "stream",
     "text": [
      "\u001b[34m\u001b[1mwandb\u001b[0m: Currently logged in as: \u001b[33me_hossam96\u001b[0m. Use \u001b[1m`wandb login --relogin`\u001b[0m to force relogin\n"
     ]
    },
    {
     "name": "stdout",
     "output_type": "stream",
     "text": [
      "Token is valid (permission: write).\n",
      "Your token has been saved in your configured git credential helpers (store).\n",
      "Your token has been saved to /home/hossam/.cache/huggingface/token\n",
      "Login successful\n"
     ]
    }
   ],
   "source": [
    "load_dotenv()\n",
    "wandb.login()\n",
    "login(token=os.getenv('HF_TOKEN'), add_to_git_credential=True, write_permission=True) # HF"
   ]
  },
  {
   "cell_type": "code",
   "execution_count": 9,
   "metadata": {},
   "outputs": [
    {
     "data": {
      "application/vnd.jupyter.widget-view+json": {
       "model_id": "f7b786aa2b514c8583e07896fcba97a0",
       "version_major": 2,
       "version_minor": 0
      },
      "text/plain": [
       "VBox(children=(Label(value='Waiting for wandb.init()...\\r'), FloatProgress(value=0.011217799577783202, max=1.0…"
      ]
     },
     "metadata": {},
     "output_type": "display_data"
    },
    {
     "data": {
      "text/html": [
       "Tracking run with wandb version 0.17.8"
      ],
      "text/plain": [
       "<IPython.core.display.HTML object>"
      ]
     },
     "metadata": {},
     "output_type": "display_data"
    },
    {
     "data": {
      "text/html": [
       "Run data is saved locally in <code>/mnt/d/Programming Projects/Arabic Disambiguation Study/notebooks/wandb/run-20240914_005331-uatjy6hz</code>"
      ],
      "text/plain": [
       "<IPython.core.display.HTML object>"
      ]
     },
     "metadata": {},
     "output_type": "display_data"
    },
    {
     "data": {
      "text/html": [
       "Syncing run <strong><a href='https://wandb.ai/e_hossam96/ARABIC_DISAMBIGUATION_STUDY/runs/uatjy6hz' target=\"_blank\">AraBERT_Sentiment_Classification_Modeling_Disambg</a></strong> to <a href='https://wandb.ai/e_hossam96/ARABIC_DISAMBIGUATION_STUDY' target=\"_blank\">Weights & Biases</a> (<a href='https://wandb.me/run' target=\"_blank\">docs</a>)<br/>"
      ],
      "text/plain": [
       "<IPython.core.display.HTML object>"
      ]
     },
     "metadata": {},
     "output_type": "display_data"
    },
    {
     "data": {
      "text/html": [
       " View project at <a href='https://wandb.ai/e_hossam96/ARABIC_DISAMBIGUATION_STUDY' target=\"_blank\">https://wandb.ai/e_hossam96/ARABIC_DISAMBIGUATION_STUDY</a>"
      ],
      "text/plain": [
       "<IPython.core.display.HTML object>"
      ]
     },
     "metadata": {},
     "output_type": "display_data"
    },
    {
     "data": {
      "text/html": [
       " View run at <a href='https://wandb.ai/e_hossam96/ARABIC_DISAMBIGUATION_STUDY/runs/uatjy6hz' target=\"_blank\">https://wandb.ai/e_hossam96/ARABIC_DISAMBIGUATION_STUDY/runs/uatjy6hz</a>"
      ],
      "text/plain": [
       "<IPython.core.display.HTML object>"
      ]
     },
     "metadata": {},
     "output_type": "display_data"
    }
   ],
   "source": [
    "run = wandb.init(project=PROJECT_NAME, job_type=JOB_TYPE,\n",
    "                 name=RUN_NAME, notes=NOTES, tags=TAGS, config=config)"
   ]
  },
  {
   "cell_type": "code",
   "execution_count": 10,
   "metadata": {},
   "outputs": [
    {
     "name": "stderr",
     "output_type": "stream",
     "text": [
      "\u001b[34m\u001b[1mwandb\u001b[0m:   3 of 3 files downloaded.  \n"
     ]
    }
   ],
   "source": [
    "data_artifact = run.use_artifact(to_use_artifact_name)\n",
    "data_path = data_artifact.download(root=Path(f'../data/{to_use_artifact_name}'))\n",
    "data_path = Path(data_path)"
   ]
  },
  {
   "cell_type": "code",
   "execution_count": 11,
   "metadata": {},
   "outputs": [],
   "source": [
    "datasets = DatasetDict({})\n",
    "for f in glob.glob(f'{str(data_path)}/*'):\n",
    "    datasets[f.split('/')[-1]] = Dataset.from_pandas(pd.read_csv(f), preserve_index=False)"
   ]
  },
  {
   "cell_type": "code",
   "execution_count": 12,
   "metadata": {},
   "outputs": [
    {
     "data": {
      "text/plain": [
       "DatasetDict({\n",
       "    test: Dataset({\n",
       "        features: ['tweet', 'label', 'text', 'text_arabert'],\n",
       "        num_rows: 2000\n",
       "    })\n",
       "    train: Dataset({\n",
       "        features: ['tweet', 'label', 'text', 'text_arabert'],\n",
       "        num_rows: 16000\n",
       "    })\n",
       "    valid: Dataset({\n",
       "        features: ['tweet', 'label', 'text', 'text_arabert'],\n",
       "        num_rows: 2000\n",
       "    })\n",
       "})"
      ]
     },
     "execution_count": 12,
     "metadata": {},
     "output_type": "execute_result"
    }
   ],
   "source": [
    "datasets"
   ]
  },
  {
   "cell_type": "code",
   "execution_count": 13,
   "metadata": {
    "tags": []
   },
   "outputs": [
    {
     "data": {
      "text/plain": [
       "['neutral', 'negative', 'positive']"
      ]
     },
     "execution_count": 13,
     "metadata": {},
     "output_type": "execute_result"
    }
   ],
   "source": [
    "label_names = datasets['train'].to_pandas().label.unique().tolist()\n",
    "label_names"
   ]
  },
  {
   "cell_type": "code",
   "execution_count": 14,
   "metadata": {},
   "outputs": [],
   "source": [
    "label2id = {l: i for i, l in enumerate(label_names)}\n",
    "id2label = {i: l for i, l in enumerate(label_names)}"
   ]
  },
  {
   "cell_type": "code",
   "execution_count": 15,
   "metadata": {
    "tags": []
   },
   "outputs": [
    {
     "data": {
      "application/vnd.jupyter.widget-view+json": {
       "model_id": "b9b4212668fe4921985bfb88917a7cdf",
       "version_major": 2,
       "version_minor": 0
      },
      "text/plain": [
       "Map:   0%|          | 0/2000 [00:00<?, ? examples/s]"
      ]
     },
     "metadata": {},
     "output_type": "display_data"
    },
    {
     "data": {
      "application/vnd.jupyter.widget-view+json": {
       "model_id": "9ea4c74ee7944816afb6aea4fb8c45c8",
       "version_major": 2,
       "version_minor": 0
      },
      "text/plain": [
       "Map:   0%|          | 0/16000 [00:00<?, ? examples/s]"
      ]
     },
     "metadata": {},
     "output_type": "display_data"
    },
    {
     "data": {
      "application/vnd.jupyter.widget-view+json": {
       "model_id": "ff8445d058214621a9e822c4880ca714",
       "version_major": 2,
       "version_minor": 0
      },
      "text/plain": [
       "Map:   0%|          | 0/2000 [00:00<?, ? examples/s]"
      ]
     },
     "metadata": {},
     "output_type": "display_data"
    }
   ],
   "source": [
    "datasets = datasets.rename_column('label', 'labels')\n",
    "datasets = datasets.map(lambda x: {'labels': label2id[x['labels']]}, batched=False)"
   ]
  },
  {
   "cell_type": "code",
   "execution_count": 16,
   "metadata": {
    "tags": []
   },
   "outputs": [
    {
     "name": "stderr",
     "output_type": "stream",
     "text": [
      "/home/hossam/miniconda3/envs/disambg/lib/python3.11/site-packages/transformers/tokenization_utils_base.py:1601: FutureWarning: `clean_up_tokenization_spaces` was not set. It will be set to `True` by default. This behavior will be depracted in transformers v4.45, and will be then set to `False` by default. For more details check this issue: https://github.com/huggingface/transformers/issues/31884\n",
      "  warnings.warn(\n"
     ]
    }
   ],
   "source": [
    "tokenizer = AutoTokenizer.from_pretrained(model_ckpt)"
   ]
  },
  {
   "cell_type": "code",
   "execution_count": 17,
   "metadata": {
    "tags": []
   },
   "outputs": [
    {
     "data": {
      "application/vnd.jupyter.widget-view+json": {
       "model_id": "2a937a964e9047b783b7eb38404e1769",
       "version_major": 2,
       "version_minor": 0
      },
      "text/plain": [
       "Map:   0%|          | 0/2000 [00:00<?, ? examples/s]"
      ]
     },
     "metadata": {},
     "output_type": "display_data"
    },
    {
     "data": {
      "application/vnd.jupyter.widget-view+json": {
       "model_id": "4552dee8711246bd80f271b5e489f8ce",
       "version_major": 2,
       "version_minor": 0
      },
      "text/plain": [
       "Map:   0%|          | 0/16000 [00:00<?, ? examples/s]"
      ]
     },
     "metadata": {},
     "output_type": "display_data"
    },
    {
     "data": {
      "application/vnd.jupyter.widget-view+json": {
       "model_id": "cc983e338ebb46718e8d0a9ce182f8e7",
       "version_major": 2,
       "version_minor": 0
      },
      "text/plain": [
       "Map:   0%|          | 0/2000 [00:00<?, ? examples/s]"
      ]
     },
     "metadata": {},
     "output_type": "display_data"
    }
   ],
   "source": [
    "datasets = datasets.map(lambda x: tokenizer(x['text_arabert']), batched=True)"
   ]
  },
  {
   "cell_type": "code",
   "execution_count": 18,
   "metadata": {
    "tags": []
   },
   "outputs": [
    {
     "data": {
      "text/plain": [
       "DatasetDict({\n",
       "    test: Dataset({\n",
       "        features: ['tweet', 'labels', 'text', 'text_arabert', 'input_ids', 'token_type_ids', 'attention_mask'],\n",
       "        num_rows: 2000\n",
       "    })\n",
       "    train: Dataset({\n",
       "        features: ['tweet', 'labels', 'text', 'text_arabert', 'input_ids', 'token_type_ids', 'attention_mask'],\n",
       "        num_rows: 16000\n",
       "    })\n",
       "    valid: Dataset({\n",
       "        features: ['tweet', 'labels', 'text', 'text_arabert', 'input_ids', 'token_type_ids', 'attention_mask'],\n",
       "        num_rows: 2000\n",
       "    })\n",
       "})"
      ]
     },
     "execution_count": 18,
     "metadata": {},
     "output_type": "execute_result"
    }
   ],
   "source": [
    "datasets"
   ]
  },
  {
   "cell_type": "code",
   "execution_count": 19,
   "metadata": {
    "tags": []
   },
   "outputs": [
    {
     "name": "stderr",
     "output_type": "stream",
     "text": [
      "Some weights of BertForSequenceClassification were not initialized from the model checkpoint at aubmindlab/bert-base-arabertv2 and are newly initialized: ['classifier.bias', 'classifier.weight']\n",
      "You should probably TRAIN this model on a down-stream task to be able to use it for predictions and inference.\n"
     ]
    }
   ],
   "source": [
    "model = AutoModelForSequenceClassification.from_pretrained(model_ckpt, num_labels=len(label_names), label2id=label2id, id2label=id2label)"
   ]
  },
  {
   "cell_type": "code",
   "execution_count": 20,
   "metadata": {
    "tags": []
   },
   "outputs": [
    {
     "data": {
      "text/plain": [
       "device(type='cuda')"
      ]
     },
     "execution_count": 20,
     "metadata": {},
     "output_type": "execute_result"
    }
   ],
   "source": [
    "device = torch.device('cuda')\n",
    "device"
   ]
  },
  {
   "cell_type": "code",
   "execution_count": 21,
   "metadata": {
    "tags": []
   },
   "outputs": [
    {
     "data": {
      "text/plain": [
       "{0: 0.863125, 1: 0.093, 2: 0.043875}"
      ]
     },
     "execution_count": 21,
     "metadata": {},
     "output_type": "execute_result"
    }
   ],
   "source": [
    "weights = datasets['train'].to_pandas().labels.value_counts(normalize=True).to_dict()\n",
    "weights"
   ]
  },
  {
   "cell_type": "code",
   "execution_count": 22,
   "metadata": {
    "tags": []
   },
   "outputs": [
    {
     "data": {
      "text/plain": [
       "tensor([0., 0., 0.], device='cuda:0')"
      ]
     },
     "execution_count": 22,
     "metadata": {},
     "output_type": "execute_result"
    }
   ],
   "source": [
    "w = torch.tensor([0.0] * len(label_names), device=device, dtype=torch.float32)\n",
    "w"
   ]
  },
  {
   "cell_type": "code",
   "execution_count": 23,
   "metadata": {
    "tags": []
   },
   "outputs": [
    {
     "data": {
      "text/plain": [
       "tensor([0.8631, 0.0930, 0.0439], device='cuda:0')"
      ]
     },
     "execution_count": 23,
     "metadata": {},
     "output_type": "execute_result"
    }
   ],
   "source": [
    "for i, k in weights.items():\n",
    "    w[i] = k\n",
    "\n",
    "w"
   ]
  },
  {
   "cell_type": "code",
   "execution_count": 24,
   "metadata": {
    "tags": []
   },
   "outputs": [
    {
     "data": {
      "text/plain": [
       "tensor([0.0334, 0.3098, 0.6568], device='cuda:0')"
      ]
     },
     "execution_count": 24,
     "metadata": {},
     "output_type": "execute_result"
    }
   ],
   "source": [
    "w = 1 / w\n",
    "w = w / w.sum()\n",
    "w"
   ]
  },
  {
   "cell_type": "code",
   "execution_count": 25,
   "metadata": {
    "tags": []
   },
   "outputs": [],
   "source": [
    "loss_fn = torch.nn.CrossEntropyLoss(weight=w)"
   ]
  },
  {
   "cell_type": "code",
   "execution_count": 26,
   "metadata": {
    "tags": []
   },
   "outputs": [
    {
     "data": {
      "text/plain": [
       "6000"
      ]
     },
     "execution_count": 26,
     "metadata": {},
     "output_type": "execute_result"
    }
   ],
   "source": [
    "num_epochs = 6\n",
    "batch_size = 16\n",
    "total_steps = len(datasets['train']) * num_epochs // batch_size\n",
    "total_steps"
   ]
  },
  {
   "cell_type": "code",
   "execution_count": 27,
   "metadata": {
    "tags": []
   },
   "outputs": [],
   "source": [
    "training_args = TrainingArguments(\n",
    "    output_dir=model_path,\n",
    "    run_name=RUN_NAME,\n",
    "    overwrite_output_dir=True,\n",
    "    learning_rate=2e-5,\n",
    "    per_device_train_batch_size=batch_size,\n",
    "    per_device_eval_batch_size=64,\n",
    "    num_train_epochs=num_epochs,\n",
    "    weight_decay=1e-5,\n",
    "    warmup_ratio=0.05,\n",
    "    # eval_steps=250,\n",
    "    eval_strategy='epoch',\n",
    "    save_strategy='epoch',\n",
    "    # save_safetensors=False,\n",
    "    log_level='error',\n",
    "    seed=seed,\n",
    "    load_best_model_at_end=True,\n",
    "    # metric_for_best_model='F1',\n",
    ")"
   ]
  },
  {
   "cell_type": "code",
   "execution_count": 28,
   "metadata": {
    "tags": []
   },
   "outputs": [],
   "source": [
    "data_collator = DataCollatorWithPadding(tokenizer=tokenizer)"
   ]
  },
  {
   "cell_type": "code",
   "execution_count": 29,
   "metadata": {
    "tags": []
   },
   "outputs": [],
   "source": [
    "class WeightedCETrainer(Trainer):\n",
    "    def compute_loss(self, model, inputs, return_outputs=False):\n",
    "        labels = inputs.pop('labels')  # [batch_size, num_labels]\n",
    "        outputs = model(**inputs)\n",
    "        logits = outputs.get('logits')  # [batch_size, num_labels]\n",
    "        loss = loss_fn(logits.view(-1, self.model.config.num_labels), labels.view(-1))\n",
    "        return (loss, outputs) if return_outputs else loss"
   ]
  },
  {
   "cell_type": "code",
   "execution_count": 30,
   "metadata": {
    "tags": []
   },
   "outputs": [],
   "source": [
    "def compute_scores(preds):\n",
    "    logits, labels = preds\n",
    "    pred = np.argmax(logits, axis=-1)\n",
    "    acc = accuracy_score(labels, pred)\n",
    "    f1 = f1_score(labels, pred, average='macro')\n",
    "    prec = precision_score(labels, pred, average='macro')\n",
    "    rec = recall_score(labels, pred, average='macro')\n",
    "    return {'Accuracy': acc, 'Precision': prec, 'Recall': rec, 'F1': f1}"
   ]
  },
  {
   "cell_type": "code",
   "execution_count": 31,
   "metadata": {
    "tags": []
   },
   "outputs": [],
   "source": [
    "trainer = WeightedCETrainer(\n",
    "    model=model,\n",
    "    args=training_args,\n",
    "    train_dataset=datasets['train'],\n",
    "    eval_dataset=datasets['valid'],\n",
    "    tokenizer=tokenizer,\n",
    "    data_collator=data_collator,\n",
    "    compute_metrics=compute_scores,\n",
    ")"
   ]
  },
  {
   "cell_type": "code",
   "execution_count": 32,
   "metadata": {
    "tags": []
   },
   "outputs": [
    {
     "data": {
      "text/html": [
       "\n",
       "    <div>\n",
       "      \n",
       "      <progress value='6000' max='6000' style='width:300px; height:20px; vertical-align: middle;'></progress>\n",
       "      [6000/6000 32:19, Epoch 6/6]\n",
       "    </div>\n",
       "    <table border=\"1\" class=\"dataframe\">\n",
       "  <thead>\n",
       " <tr style=\"text-align: left;\">\n",
       "      <th>Epoch</th>\n",
       "      <th>Training Loss</th>\n",
       "      <th>Validation Loss</th>\n",
       "      <th>Accuracy</th>\n",
       "      <th>Precision</th>\n",
       "      <th>Recall</th>\n",
       "      <th>F1</th>\n",
       "    </tr>\n",
       "  </thead>\n",
       "  <tbody>\n",
       "    <tr>\n",
       "      <td>1</td>\n",
       "      <td>1.104800</td>\n",
       "      <td>1.103199</td>\n",
       "      <td>0.774500</td>\n",
       "      <td>0.369497</td>\n",
       "      <td>0.368653</td>\n",
       "      <td>0.340535</td>\n",
       "    </tr>\n",
       "    <tr>\n",
       "      <td>2</td>\n",
       "      <td>1.065300</td>\n",
       "      <td>1.104979</td>\n",
       "      <td>0.664000</td>\n",
       "      <td>0.362154</td>\n",
       "      <td>0.389920</td>\n",
       "      <td>0.356863</td>\n",
       "    </tr>\n",
       "    <tr>\n",
       "      <td>3</td>\n",
       "      <td>0.987100</td>\n",
       "      <td>1.263505</td>\n",
       "      <td>0.454500</td>\n",
       "      <td>0.347156</td>\n",
       "      <td>0.359410</td>\n",
       "      <td>0.284943</td>\n",
       "    </tr>\n",
       "    <tr>\n",
       "      <td>4</td>\n",
       "      <td>0.809800</td>\n",
       "      <td>1.407563</td>\n",
       "      <td>0.569000</td>\n",
       "      <td>0.351796</td>\n",
       "      <td>0.377223</td>\n",
       "      <td>0.329257</td>\n",
       "    </tr>\n",
       "    <tr>\n",
       "      <td>5</td>\n",
       "      <td>0.632400</td>\n",
       "      <td>1.776125</td>\n",
       "      <td>0.682500</td>\n",
       "      <td>0.357206</td>\n",
       "      <td>0.366300</td>\n",
       "      <td>0.348100</td>\n",
       "    </tr>\n",
       "    <tr>\n",
       "      <td>6</td>\n",
       "      <td>0.515300</td>\n",
       "      <td>1.962637</td>\n",
       "      <td>0.722500</td>\n",
       "      <td>0.361874</td>\n",
       "      <td>0.372973</td>\n",
       "      <td>0.364284</td>\n",
       "    </tr>\n",
       "  </tbody>\n",
       "</table><p>"
      ],
      "text/plain": [
       "<IPython.core.display.HTML object>"
      ]
     },
     "metadata": {},
     "output_type": "display_data"
    },
    {
     "data": {
      "text/plain": [
       "TrainOutput(global_step=6000, training_loss=0.8500863418579102, metrics={'train_runtime': 1940.7059, 'train_samples_per_second': 49.467, 'train_steps_per_second': 3.092, 'total_flos': 4340236715898048.0, 'train_loss': 0.8500863418579102, 'epoch': 6.0})"
      ]
     },
     "execution_count": 32,
     "metadata": {},
     "output_type": "execute_result"
    }
   ],
   "source": [
    "trainer.train()"
   ]
  },
  {
   "cell_type": "code",
   "execution_count": 33,
   "metadata": {
    "tags": []
   },
   "outputs": [
    {
     "data": {
      "text/html": [],
      "text/plain": [
       "<IPython.core.display.HTML object>"
      ]
     },
     "metadata": {},
     "output_type": "display_data"
    }
   ],
   "source": [
    "test_outs = trainer.predict(datasets['test'])\n",
    "test_preds = np.argmax(test_outs[0], axis=-1)\n",
    "test_labels = test_outs[1]"
   ]
  },
  {
   "cell_type": "code",
   "execution_count": 34,
   "metadata": {
    "tags": []
   },
   "outputs": [
    {
     "data": {
      "text/html": [
       "<pre style=\"white-space:pre;overflow-x:auto;line-height:normal;font-family:Menlo,'DejaVu Sans Mono',consolas,'Courier New',monospace\">              precision    recall  f1-score   support\n",
       "\n",
       "     neutral     <span style=\"color: #008080; text-decoration-color: #008080; font-weight: bold\">0.8718</span>    <span style=\"color: #008080; text-decoration-color: #008080; font-weight: bold\">0.8864</span>    <span style=\"color: #008080; text-decoration-color: #008080; font-weight: bold\">0.8791</span>      <span style=\"color: #008080; text-decoration-color: #008080; font-weight: bold\">1726</span>\n",
       "    negative     <span style=\"color: #008080; text-decoration-color: #008080; font-weight: bold\">0.2000</span>    <span style=\"color: #008080; text-decoration-color: #008080; font-weight: bold\">0.0108</span>    <span style=\"color: #008080; text-decoration-color: #008080; font-weight: bold\">0.0204</span>       <span style=\"color: #008080; text-decoration-color: #008080; font-weight: bold\">186</span>\n",
       "    positive     <span style=\"color: #008080; text-decoration-color: #008080; font-weight: bold\">0.0638</span>    <span style=\"color: #008080; text-decoration-color: #008080; font-weight: bold\">0.1705</span>    <span style=\"color: #008080; text-decoration-color: #008080; font-weight: bold\">0.0929</span>        <span style=\"color: #008080; text-decoration-color: #008080; font-weight: bold\">88</span>\n",
       "\n",
       "    accuracy                         <span style=\"color: #008080; text-decoration-color: #008080; font-weight: bold\">0.7735</span>      <span style=\"color: #008080; text-decoration-color: #008080; font-weight: bold\">2000</span>\n",
       "   macro avg     <span style=\"color: #008080; text-decoration-color: #008080; font-weight: bold\">0.3785</span>    <span style=\"color: #008080; text-decoration-color: #008080; font-weight: bold\">0.3559</span>    <span style=\"color: #008080; text-decoration-color: #008080; font-weight: bold\">0.3308</span>      <span style=\"color: #008080; text-decoration-color: #008080; font-weight: bold\">2000</span>\n",
       "weighted avg     <span style=\"color: #008080; text-decoration-color: #008080; font-weight: bold\">0.7738</span>    <span style=\"color: #008080; text-decoration-color: #008080; font-weight: bold\">0.7735</span>    <span style=\"color: #008080; text-decoration-color: #008080; font-weight: bold\">0.7646</span>      <span style=\"color: #008080; text-decoration-color: #008080; font-weight: bold\">2000</span>\n",
       "\n",
       "</pre>\n"
      ],
      "text/plain": [
       "              precision    recall  f1-score   support\n",
       "\n",
       "     neutral     \u001b[1;36m0.8718\u001b[0m    \u001b[1;36m0.8864\u001b[0m    \u001b[1;36m0.8791\u001b[0m      \u001b[1;36m1726\u001b[0m\n",
       "    negative     \u001b[1;36m0.2000\u001b[0m    \u001b[1;36m0.0108\u001b[0m    \u001b[1;36m0.0204\u001b[0m       \u001b[1;36m186\u001b[0m\n",
       "    positive     \u001b[1;36m0.0638\u001b[0m    \u001b[1;36m0.1705\u001b[0m    \u001b[1;36m0.0929\u001b[0m        \u001b[1;36m88\u001b[0m\n",
       "\n",
       "    accuracy                         \u001b[1;36m0.7735\u001b[0m      \u001b[1;36m2000\u001b[0m\n",
       "   macro avg     \u001b[1;36m0.3785\u001b[0m    \u001b[1;36m0.3559\u001b[0m    \u001b[1;36m0.3308\u001b[0m      \u001b[1;36m2000\u001b[0m\n",
       "weighted avg     \u001b[1;36m0.7738\u001b[0m    \u001b[1;36m0.7735\u001b[0m    \u001b[1;36m0.7646\u001b[0m      \u001b[1;36m2000\u001b[0m\n",
       "\n"
      ]
     },
     "metadata": {},
     "output_type": "display_data"
    }
   ],
   "source": [
    "print(classification_report(test_labels, test_preds, target_names=label_names, digits=4))"
   ]
  },
  {
   "cell_type": "code",
   "execution_count": 35,
   "metadata": {
    "tags": []
   },
   "outputs": [
    {
     "data": {
      "image/png": "[encoded data removed]",
      "text/plain": [
       "<Figure size 640x480 with 1 Axes>"
      ]
     },
     "metadata": {},
     "output_type": "display_data"
    }
   ],
   "source": [
    "cm = confusion_matrix(test_labels, test_preds, normalize='true')\n",
    "disp = ConfusionMatrixDisplay(confusion_matrix=cm, display_labels=label_names)\n",
    "\n",
    "fig, ax = plt.subplots()\n",
    "ax.grid(False)\n",
    "disp.plot(cmap='Blues', colorbar=False, ax=ax, values_format='.2f')\n",
    "plt.tight_layout()\n",
    "plt.show()"
   ]
  },
  {
   "cell_type": "code",
   "execution_count": 36,
   "metadata": {},
   "outputs": [
    {
     "data": {
      "text/html": [
       "<pre style=\"white-space:pre;overflow-x:auto;line-height:normal;font-family:Menlo,'DejaVu Sans Mono',consolas,'Courier New',monospace\"><span style=\"font-weight: bold\">{</span><span style=\"color: #008000; text-decoration-color: #008000\">'test_f1'</span>: <span style=\"color: #008080; text-decoration-color: #008080; font-weight: bold\">0.3307817207531344</span>, <span style=\"color: #008000; text-decoration-color: #008000\">'test_precision'</span>: <span style=\"color: #008080; text-decoration-color: #008080; font-weight: bold\">0.3785415530096381</span>, <span style=\"color: #008000; text-decoration-color: #008000\">'test_recall'</span>: <span style=\"color: #008080; text-decoration-color: #008080; font-weight: bold\">0.35588329185776196</span><span style=\"font-weight: bold\">}</span>\n",
       "</pre>\n"
      ],
      "text/plain": [
       "\u001b[1m{\u001b[0m\u001b[32m'test_f1'\u001b[0m: \u001b[1;36m0.3307817207531344\u001b[0m, \u001b[32m'test_precision'\u001b[0m: \u001b[1;36m0.3785415530096381\u001b[0m, \u001b[32m'test_recall'\u001b[0m: \u001b[1;36m0.35588329185776196\u001b[0m\u001b[1m}\u001b[0m\n"
      ]
     },
     "metadata": {},
     "output_type": "display_data"
    }
   ],
   "source": [
    "summary = {}\n",
    "scores = compute_scores(test_outs[:2])\n",
    "summary['test_f1'] = scores['F1']\n",
    "summary['test_precision'] = scores['Precision']\n",
    "summary['test_recall'] = scores['Recall']\n",
    "print(summary)"
   ]
  },
  {
   "cell_type": "code",
   "execution_count": 37,
   "metadata": {},
   "outputs": [],
   "source": [
    "for k, v in summary.items():\n",
    "    run.summary[k] = v"
   ]
  },
  {
   "cell_type": "code",
   "execution_count": 38,
   "metadata": {},
   "outputs": [],
   "source": [
    "run.log({'Test Confusion Matrix': wandb.plot.confusion_matrix(y_true=test_labels, preds=test_preds, class_names=label_names)})"
   ]
  },
  {
   "cell_type": "code",
   "execution_count": 39,
   "metadata": {
    "tags": []
   },
   "outputs": [],
   "source": [
    "trainer.save_model(model_path)"
   ]
  },
  {
   "cell_type": "code",
   "execution_count": 40,
   "metadata": {
    "tags": []
   },
   "outputs": [
    {
     "data": {
      "application/vnd.jupyter.widget-view+json": {
       "model_id": "",
       "version_major": 2,
       "version_minor": 0
      },
      "text/plain": [
       "VBox(children=(Label(value='0.004 MB of 0.004 MB uploaded\\r'), FloatProgress(value=1.0, max=1.0)))"
      ]
     },
     "metadata": {},
     "output_type": "display_data"
    },
    {
     "data": {
      "text/html": [
       "W&B sync reduced upload amount by 5.3%"
      ],
      "text/plain": [
       "<IPython.core.display.HTML object>"
      ]
     },
     "metadata": {},
     "output_type": "display_data"
    },
    {
     "data": {
      "text/html": [
       "<style>\n",
       "    table.wandb td:nth-child(1) { padding: 0 10px; text-align: left ; width: auto;} td:nth-child(2) {text-align: left ; width: 100%}\n",
       "    .wandb-row { display: flex; flex-direction: row; flex-wrap: wrap; justify-content: flex-start; width: 100% }\n",
       "    .wandb-col { display: flex; flex-direction: column; flex-basis: 100%; flex: 1; padding: 10px; }\n",
       "    </style>\n",
       "<div class=\"wandb-row\"><div class=\"wandb-col\"><h3>Run history:</h3><br/><table class=\"wandb\"><tr><td>eval/Accuracy</td><td>█▆▁▄▆▇</td></tr><tr><td>eval/F1</td><td>▆▇▁▅▇█</td></tr><tr><td>eval/Precision</td><td>█▆▁▂▄▆</td></tr><tr><td>eval/Recall</td><td>▃█▁▅▃▄</td></tr><tr><td>eval/loss</td><td>▁▁▂▃▆█</td></tr><tr><td>eval/runtime</td><td>▇█▃▇█▁</td></tr><tr><td>eval/samples_per_second</td><td>▂▁▆▂▁█</td></tr><tr><td>eval/steps_per_second</td><td>▂▁▆▂▁█</td></tr><tr><td>test/Accuracy</td><td>▁</td></tr><tr><td>test/F1</td><td>▁</td></tr><tr><td>test/Precision</td><td>▁</td></tr><tr><td>test/Recall</td><td>▁</td></tr><tr><td>test/loss</td><td>▁</td></tr><tr><td>test/runtime</td><td>▁</td></tr><tr><td>test/samples_per_second</td><td>▁</td></tr><tr><td>test/steps_per_second</td><td>▁</td></tr><tr><td>train/epoch</td><td>▁▂▂▂▃▃▄▄▄▅▅▅▆▇▇▇███</td></tr><tr><td>train/global_step</td><td>▁▂▂▂▃▃▄▄▄▅▅▅▆▇▇▇█████</td></tr><tr><td>train/grad_norm</td><td>▁▁▄▁▂▁▂▃▅▁▁█</td></tr><tr><td>train/learning_rate</td><td>█▇▇▆▅▅▄▄▃▂▂▁</td></tr><tr><td>train/loss</td><td>████▇▇▅▅▂▃▁▁</td></tr></table><br/></div><div class=\"wandb-col\"><h3>Run summary:</h3><br/><table class=\"wandb\"><tr><td>eval/Accuracy</td><td>0.7225</td></tr><tr><td>eval/F1</td><td>0.36428</td></tr><tr><td>eval/Precision</td><td>0.36187</td></tr><tr><td>eval/Recall</td><td>0.37297</td></tr><tr><td>eval/loss</td><td>1.96264</td></tr><tr><td>eval/runtime</td><td>8.4948</td></tr><tr><td>eval/samples_per_second</td><td>235.439</td></tr><tr><td>eval/steps_per_second</td><td>3.767</td></tr><tr><td>test/Accuracy</td><td>0.7735</td></tr><tr><td>test/F1</td><td>0.33078</td></tr><tr><td>test/Precision</td><td>0.37854</td></tr><tr><td>test/Recall</td><td>0.35588</td></tr><tr><td>test/loss</td><td>1.09669</td></tr><tr><td>test/runtime</td><td>9.0802</td></tr><tr><td>test/samples_per_second</td><td>220.26</td></tr><tr><td>test/steps_per_second</td><td>3.524</td></tr><tr><td>test_f1</td><td>0.33078</td></tr><tr><td>test_precision</td><td>0.37854</td></tr><tr><td>test_recall</td><td>0.35588</td></tr><tr><td>total_flos</td><td>4340236715898048.0</td></tr><tr><td>train/epoch</td><td>6.0</td></tr><tr><td>train/global_step</td><td>6000</td></tr><tr><td>train/grad_norm</td><td>43.99853</td></tr><tr><td>train/learning_rate</td><td>0.0</td></tr><tr><td>train/loss</td><td>0.5153</td></tr><tr><td>train_loss</td><td>0.85009</td></tr><tr><td>train_runtime</td><td>1940.7059</td></tr><tr><td>train_samples_per_second</td><td>49.467</td></tr><tr><td>train_steps_per_second</td><td>3.092</td></tr></table><br/></div></div>"
      ],
      "text/plain": [
       "<IPython.core.display.HTML object>"
      ]
     },
     "metadata": {},
     "output_type": "display_data"
    },
    {
     "data": {
      "text/html": [
       " View run <strong style=\"color:#cdcd00\">AraBERT_Sentiment_Classification_Modeling_Disambg</strong> at: <a href='https://wandb.ai/e_hossam96/ARABIC_DISAMBIGUATION_STUDY/runs/uatjy6hz' target=\"_blank\">https://wandb.ai/e_hossam96/ARABIC_DISAMBIGUATION_STUDY/runs/uatjy6hz</a><br/> View project at: <a href='https://wandb.ai/e_hossam96/ARABIC_DISAMBIGUATION_STUDY' target=\"_blank\">https://wandb.ai/e_hossam96/ARABIC_DISAMBIGUATION_STUDY</a><br/>Synced 6 W&B file(s), 1 media file(s), 3 artifact file(s) and 0 other file(s)"
      ],
      "text/plain": [
       "<IPython.core.display.HTML object>"
      ]
     },
     "metadata": {},
     "output_type": "display_data"
    },
    {
     "data": {
      "text/html": [
       "Find logs at: <code>./wandb/run-20240914_005331-uatjy6hz/logs</code>"
      ],
      "text/plain": [
       "<IPython.core.display.HTML object>"
      ]
     },
     "metadata": {},
     "output_type": "display_data"
    },
    {
     "data": {
      "text/html": [
       "wandb version 0.18.0 is available!  To upgrade, please run:\n",
       " $ pip install wandb --upgrade"
      ],
      "text/plain": [
       "<IPython.core.display.HTML object>"
      ]
     },
     "metadata": {},
     "output_type": "display_data"
    },
    {
     "data": {
      "text/html": [
       "The new W&B backend becomes opt-out in version 0.18.0; try it out with `wandb.require(\"core\")`! See https://wandb.me/wandb-core for more information."
      ],
      "text/plain": [
       "<IPython.core.display.HTML object>"
      ]
     },
     "metadata": {},
     "output_type": "display_data"
    }
   ],
   "source": [
    "wandb.finish()"
   ]
  }
 ],
 "metadata": {
  "kernelspec": {
   "display_name": "Python 3 (ipykernel)",
   "language": "python",
   "name": "python3"
  },
  "language_info": {
   "codemirror_mode": {
    "name": "ipython",
    "version": 3
   },
   "file_extension": ".py",
   "mimetype": "text/x-python",
   "name": "python",
   "nbconvert_exporter": "python",
   "pygments_lexer": "ipython3",
   "version": "3.11.9"
  },
  "widgets": {
   "application/vnd.jupyter.widget-state+json": {
    "state": {
     "0533591be4ea4fecbfd7a3b786a0ad42": {
      "model_module": "@jupyter-widgets/base",
      "model_module_version": "2.0.0",
      "model_name": "LayoutModel",
      "state": {}
     },
     "0587389489264504bd738a217c193309": {
      "model_module": "@jupyter-widgets/controls",
      "model_module_version": "2.0.0",
      "model_name": "HTMLStyleModel",
      "state": {
       "description_width": "",
       "font_size": null,
       "text_color": null
      }
     },
     "07070fcf4a604227991f95b78156234f": {
      "model_module": "@jupyter-widgets/controls",
      "model_module_version": "2.0.0",
      "model_name": "LabelStyleModel",
      "state": {
       "description_width": "",
       "font_family": null,
       "font_size": null,
       "font_style": null,
       "font_variant": null,
       "font_weight": null,
       "text_color": null,
       "text_decoration": null
      }
     },
     "09af9576e748452ebeba9d77fae408a4": {
      "model_module": "@jupyter-widgets/controls",
      "model_module_version": "2.0.0",
      "model_name": "FloatProgressModel",
      "state": {
       "bar_style": "success",
       "layout": "IPY_MODEL_2ccbddd67a814c5c81761b3212880b96",
       "max": 3465,
       "style": "IPY_MODEL_ded5247f91d04ffc893f01e0268e92ec",
       "value": 3465
      }
     },
     "09cbaf19f7a24c5e8f2c087188c64e71": {
      "model_module": "@jupyter-widgets/base",
      "model_module_version": "2.0.0",
      "model_name": "LayoutModel",
      "state": {}
     },
     "0b627a82ec704ed3b2eb6bf0df991bab": {
      "model_module": "@jupyter-widgets/base",
      "model_module_version": "2.0.0",
      "model_name": "LayoutModel",
      "state": {}
     },
     "161c46bd4cec4e84bfc04328e6580517": {
      "model_module": "@jupyter-widgets/controls",
      "model_module_version": "2.0.0",
      "model_name": "FloatProgressModel",
      "state": {
       "bar_style": "success",
       "layout": "IPY_MODEL_f6a7c5fc142641ce996e14500d0063da",
       "max": 3466,
       "style": "IPY_MODEL_fbdeb13c7cbe4551b6e737e9a76bb554",
       "value": 3466
      }
     },
     "16550302bb234209b19ab9c63d39f85b": {
      "model_module": "@jupyter-widgets/controls",
      "model_module_version": "2.0.0",
      "model_name": "ProgressStyleModel",
      "state": {
       "description_width": ""
      }
     },
     "1be05e62399343288828234463db5bcd": {
      "model_module": "@jupyter-widgets/controls",
      "model_module_version": "2.0.0",
      "model_name": "FloatProgressModel",
      "state": {
       "bar_style": "success",
       "layout": "IPY_MODEL_b90e705617ae49bebe04504a31700f47",
       "max": 10402,
       "style": "IPY_MODEL_16550302bb234209b19ab9c63d39f85b",
       "value": 10402
      }
     },
     "1bf60f4bdf5443cdaf5f4be74d5b8012": {
      "model_module": "@jupyter-widgets/controls",
      "model_module_version": "2.0.0",
      "model_name": "HTMLStyleModel",
      "state": {
       "description_width": "",
       "font_size": null,
       "text_color": null
      }
     },
     "207677be50134ad1930556ce4ac7e63d": {
      "model_module": "@jupyter-widgets/controls",
      "model_module_version": "2.0.0",
      "model_name": "HTMLStyleModel",
      "state": {
       "description_width": "",
       "font_size": null,
       "text_color": null
      }
     },
     "226192bd987d4a4c8eec463a73cb5ce5": {
      "model_module": "@jupyter-widgets/base",
      "model_module_version": "2.0.0",
      "model_name": "LayoutModel",
      "state": {}
     },
     "274da510c54f472286b51241491e4db1": {
      "model_module": "@jupyter-widgets/controls",
      "model_module_version": "2.0.0",
      "model_name": "FloatProgressModel",
      "state": {
       "layout": "IPY_MODEL_f8aa4e241d284b0ebdc58d6659761255",
       "max": 1,
       "style": "IPY_MODEL_a1f39ab3375a45f79927efbf09b9ae82"
      }
     },
     "2aa08fa4522443b5af77afc6e4c4ce3a": {
      "model_module": "@jupyter-widgets/controls",
      "model_module_version": "2.0.0",
      "model_name": "LabelStyleModel",
      "state": {
       "description_width": "",
       "font_family": null,
       "font_size": null,
       "font_style": null,
       "font_variant": null,
       "font_weight": null,
       "text_color": null,
       "text_decoration": null
      }
     },
     "2ccbddd67a814c5c81761b3212880b96": {
      "model_module": "@jupyter-widgets/base",
      "model_module_version": "2.0.0",
      "model_name": "LayoutModel",
      "state": {}
     },
     "2d8200a5b19b4a43825918fa4da1a82e": {
      "model_module": "@jupyter-widgets/controls",
      "model_module_version": "2.0.0",
      "model_name": "HTMLModel",
      "state": {
       "layout": "IPY_MODEL_a3ac425723af43e8aa5eeeb0efc3ce0c",
       "style": "IPY_MODEL_207677be50134ad1930556ce4ac7e63d",
       "value": " 3465/3465 [00:00&lt;00:00, 31892.73 examples/s]"
      }
     },
     "39ce898e084d46d0a660e1f313cbb519": {
      "model_module": "@jupyter-widgets/controls",
      "model_module_version": "2.0.0",
      "model_name": "HTMLModel",
      "state": {
       "layout": "IPY_MODEL_8f355f493c7b474d8fb0437c396a754f",
       "style": "IPY_MODEL_736181af1ca347e4b6cd66b99768c20d",
       "value": " 3466/3466 [00:00&lt;00:00, 29041.29 examples/s]"
      }
     },
     "3c0ce8f8a77847d786d50ba2b88abcc0": {
      "model_module": "@jupyter-widgets/base",
      "model_module_version": "2.0.0",
      "model_name": "LayoutModel",
      "state": {}
     },
     "44c6bf191ee846968451e7536fd0e9d3": {
      "model_module": "@jupyter-widgets/base",
      "model_module_version": "2.0.0",
      "model_name": "LayoutModel",
      "state": {}
     },
     "469e379b16974f8dbadeca7b4e3cc9f0": {
      "model_module": "@jupyter-widgets/base",
      "model_module_version": "2.0.0",
      "model_name": "LayoutModel",
      "state": {}
     },
     "4737d0b427c84db5a96881e7f7fdb9bf": {
      "model_module": "@jupyter-widgets/base",
      "model_module_version": "2.0.0",
      "model_name": "LayoutModel",
      "state": {}
     },
     "4c444f381c904a13bd6c5bb3665e9917": {
      "model_module": "@jupyter-widgets/base",
      "model_module_version": "2.0.0",
      "model_name": "LayoutModel",
      "state": {}
     },
     "4f2fd2e5a7224df989e0fca9f1b554a1": {
      "model_module": "@jupyter-widgets/controls",
      "model_module_version": "2.0.0",
      "model_name": "HTMLModel",
      "state": {
       "layout": "IPY_MODEL_882bcb67ab81475fba5c9e7321b8178a",
       "style": "IPY_MODEL_9d27a7c306154895b1b00c9d87f27430",
       "value": "Map: 100%"
      }
     },
     "506a4518cfaf44ccacda975f002864ec": {
      "model_module": "@jupyter-widgets/controls",
      "model_module_version": "2.0.0",
      "model_name": "ProgressStyleModel",
      "state": {
       "description_width": ""
      }
     },
     "528dc1d6851f49b0b64a0308847cc398": {
      "model_module": "@jupyter-widgets/controls",
      "model_module_version": "2.0.0",
      "model_name": "FloatProgressModel",
      "state": {
       "bar_style": "success",
       "layout": "IPY_MODEL_4737d0b427c84db5a96881e7f7fdb9bf",
       "max": 10402,
       "style": "IPY_MODEL_506a4518cfaf44ccacda975f002864ec",
       "value": 10402
      }
     },
     "635cff390616403fb24ac578a65c6d1c": {
      "model_module": "@jupyter-widgets/controls",
      "model_module_version": "2.0.0",
      "model_name": "HTMLModel",
      "state": {
       "layout": "IPY_MODEL_da99dab5832943d79cd198d9f01c6d9c",
       "style": "IPY_MODEL_83f592f57e4a4b1fb77c5e7a58469ea2",
       "value": "Map: 100%"
      }
     },
     "66a463d891cc4c75be68c95ee3a27e1c": {
      "model_module": "@jupyter-widgets/base",
      "model_module_version": "2.0.0",
      "model_name": "LayoutModel",
      "state": {}
     },
     "6c4bdb08a8d246baab37c1d7d4505f3d": {
      "model_module": "@jupyter-widgets/base",
      "model_module_version": "2.0.0",
      "model_name": "LayoutModel",
      "state": {}
     },
     "6c9ce78c76af4baa8154aad4aa6d212d": {
      "model_module": "@jupyter-widgets/controls",
      "model_module_version": "2.0.0",
      "model_name": "HTMLModel",
      "state": {
       "layout": "IPY_MODEL_e8e198dbd8a9477282838ffeff48acf5",
       "style": "IPY_MODEL_cbc2e59a8af449cba47403f0a17787ed",
       "value": " 3465/3465 [00:00&lt;00:00, 30623.29 examples/s]"
      }
     },
     "6fcdf82c28ab4791be310b586d020300": {
      "model_module": "@jupyter-widgets/controls",
      "model_module_version": "2.0.0",
      "model_name": "HBoxModel",
      "state": {
       "children": [
        "IPY_MODEL_635cff390616403fb24ac578a65c6d1c",
        "IPY_MODEL_161c46bd4cec4e84bfc04328e6580517",
        "IPY_MODEL_39ce898e084d46d0a660e1f313cbb519"
       ],
       "layout": "IPY_MODEL_3c0ce8f8a77847d786d50ba2b88abcc0"
      }
     },
     "736181af1ca347e4b6cd66b99768c20d": {
      "model_module": "@jupyter-widgets/controls",
      "model_module_version": "2.0.0",
      "model_name": "HTMLStyleModel",
      "state": {
       "description_width": "",
       "font_size": null,
       "text_color": null
      }
     },
     "74e605fae3e54358a10a09d1a3278613": {
      "model_module": "@jupyter-widgets/controls",
      "model_module_version": "2.0.0",
      "model_name": "VBoxModel",
      "state": {
       "children": [
        "IPY_MODEL_95b46509a40f4c75bb87d3a8eb4fdc64",
        "IPY_MODEL_d2288b7fda3047138c59bda124697466"
       ],
       "layout": "IPY_MODEL_c876175e79944962800138de69ff1b50"
      }
     },
     "75af27493f734a0794e7900774b73e30": {
      "model_module": "@jupyter-widgets/base",
      "model_module_version": "2.0.0",
      "model_name": "LayoutModel",
      "state": {}
     },
     "75b54f3db3234b57b8b36aa3a581902e": {
      "model_module": "@jupyter-widgets/base",
      "model_module_version": "2.0.0",
      "model_name": "LayoutModel",
      "state": {}
     },
     "7b22643cacd54b208c763bfecd561e54": {
      "model_module": "@jupyter-widgets/base",
      "model_module_version": "2.0.0",
      "model_name": "LayoutModel",
      "state": {}
     },
     "7d114df7f77f419d90e4e811c366caeb": {
      "model_module": "@jupyter-widgets/controls",
      "model_module_version": "2.0.0",
      "model_name": "ProgressStyleModel",
      "state": {
       "description_width": ""
      }
     },
     "7e6b2ff0ccb5468981957a563fc5e2a9": {
      "model_module": "@jupyter-widgets/controls",
      "model_module_version": "2.0.0",
      "model_name": "HTMLStyleModel",
      "state": {
       "description_width": "",
       "font_size": null,
       "text_color": null
      }
     },
     "80424d79cb0244faa9830e1a3aad3cad": {
      "model_module": "@jupyter-widgets/controls",
      "model_module_version": "2.0.0",
      "model_name": "ProgressStyleModel",
      "state": {
       "description_width": ""
      }
     },
     "80cb45e747364deab97b3d60815beb8e": {
      "model_module": "@jupyter-widgets/controls",
      "model_module_version": "2.0.0",
      "model_name": "FloatProgressModel",
      "state": {
       "bar_style": "success",
       "layout": "IPY_MODEL_44c6bf191ee846968451e7536fd0e9d3",
       "max": 3466,
       "style": "IPY_MODEL_80424d79cb0244faa9830e1a3aad3cad",
       "value": 3466
      }
     },
     "83f592f57e4a4b1fb77c5e7a58469ea2": {
      "model_module": "@jupyter-widgets/controls",
      "model_module_version": "2.0.0",
      "model_name": "HTMLStyleModel",
      "state": {
       "description_width": "",
       "font_size": null,
       "text_color": null
      }
     },
     "882bcb67ab81475fba5c9e7321b8178a": {
      "model_module": "@jupyter-widgets/base",
      "model_module_version": "2.0.0",
      "model_name": "LayoutModel",
      "state": {}
     },
     "8c666438c23f4681b493c923526f3663": {
      "model_module": "@jupyter-widgets/controls",
      "model_module_version": "2.0.0",
      "model_name": "HTMLStyleModel",
      "state": {
       "description_width": "",
       "font_size": null,
       "text_color": null
      }
     },
     "8f355f493c7b474d8fb0437c396a754f": {
      "model_module": "@jupyter-widgets/base",
      "model_module_version": "2.0.0",
      "model_name": "LayoutModel",
      "state": {}
     },
     "95b46509a40f4c75bb87d3a8eb4fdc64": {
      "model_module": "@jupyter-widgets/controls",
      "model_module_version": "2.0.0",
      "model_name": "LabelModel",
      "state": {
       "layout": "IPY_MODEL_75af27493f734a0794e7900774b73e30",
       "style": "IPY_MODEL_2aa08fa4522443b5af77afc6e4c4ce3a"
      }
     },
     "9c687774aa0348579977f36d16182549": {
      "model_module": "@jupyter-widgets/base",
      "model_module_version": "2.0.0",
      "model_name": "LayoutModel",
      "state": {}
     },
     "9d1afeb456414a729216ba320b06d1c9": {
      "model_module": "@jupyter-widgets/controls",
      "model_module_version": "2.0.0",
      "model_name": "HBoxModel",
      "state": {
       "children": [
        "IPY_MODEL_bdb2351d050e46c79831dc3f1c7b9c5d",
        "IPY_MODEL_80cb45e747364deab97b3d60815beb8e",
        "IPY_MODEL_efb7ae9ae0b64cb79b64975bdad037ad"
       ],
       "layout": "IPY_MODEL_9c687774aa0348579977f36d16182549"
      }
     },
     "9d27a7c306154895b1b00c9d87f27430": {
      "model_module": "@jupyter-widgets/controls",
      "model_module_version": "2.0.0",
      "model_name": "HTMLStyleModel",
      "state": {
       "description_width": "",
       "font_size": null,
       "text_color": null
      }
     },
     "9f7fbb0729ad45c4a8489e5fcd8e8d40": {
      "model_module": "@jupyter-widgets/controls",
      "model_module_version": "2.0.0",
      "model_name": "HTMLModel",
      "state": {
       "layout": "IPY_MODEL_226192bd987d4a4c8eec463a73cb5ce5",
       "style": "IPY_MODEL_a18e63cdf3174c848f6dbf787dfb9ecd",
       "value": " 10402/10402 [00:00&lt;00:00, 29438.29 examples/s]"
      }
     },
     "a18e63cdf3174c848f6dbf787dfb9ecd": {
      "model_module": "@jupyter-widgets/controls",
      "model_module_version": "2.0.0",
      "model_name": "HTMLStyleModel",
      "state": {
       "description_width": "",
       "font_size": null,
       "text_color": null
      }
     },
     "a1f39ab3375a45f79927efbf09b9ae82": {
      "model_module": "@jupyter-widgets/controls",
      "model_module_version": "2.0.0",
      "model_name": "ProgressStyleModel",
      "state": {
       "description_width": ""
      }
     },
     "a3ac425723af43e8aa5eeeb0efc3ce0c": {
      "model_module": "@jupyter-widgets/base",
      "model_module_version": "2.0.0",
      "model_name": "LayoutModel",
      "state": {}
     },
     "af0eb589bb3b4b398844c2f1d0786fb0": {
      "model_module": "@jupyter-widgets/controls",
      "model_module_version": "2.0.0",
      "model_name": "LabelModel",
      "state": {
       "layout": "IPY_MODEL_cab565001a3543918535fc5e162721f4",
       "style": "IPY_MODEL_07070fcf4a604227991f95b78156234f"
      }
     },
     "afc9a97c58a54a32a46a8ea17e0e15ba": {
      "model_module": "@jupyter-widgets/controls",
      "model_module_version": "2.0.0",
      "model_name": "HTMLModel",
      "state": {
       "layout": "IPY_MODEL_0b627a82ec704ed3b2eb6bf0df991bab",
       "style": "IPY_MODEL_8c666438c23f4681b493c923526f3663",
       "value": "Map: 100%"
      }
     },
     "b2af13b4ae364194abd508535e830b03": {
      "model_module": "@jupyter-widgets/controls",
      "model_module_version": "2.0.0",
      "model_name": "HBoxModel",
      "state": {
       "children": [
        "IPY_MODEL_ff3433d79c5342aebc41ee2d16cef3d1",
        "IPY_MODEL_bdc6b394052740d0b6aaa3f95368a850",
        "IPY_MODEL_2d8200a5b19b4a43825918fa4da1a82e"
       ],
       "layout": "IPY_MODEL_469e379b16974f8dbadeca7b4e3cc9f0"
      }
     },
     "b324a81bf5d94065a20cd7a7db94b30c": {
      "model_module": "@jupyter-widgets/controls",
      "model_module_version": "2.0.0",
      "model_name": "ProgressStyleModel",
      "state": {
       "description_width": ""
      }
     },
     "b37bc80cf58e46b396975a38443430e0": {
      "model_module": "@jupyter-widgets/controls",
      "model_module_version": "2.0.0",
      "model_name": "HBoxModel",
      "state": {
       "children": [
        "IPY_MODEL_bf2064e8b19d47ed84a64be6cb450dac",
        "IPY_MODEL_1be05e62399343288828234463db5bcd",
        "IPY_MODEL_b7865d06739642b29914171f673aaf87"
       ],
       "layout": "IPY_MODEL_0533591be4ea4fecbfd7a3b786a0ad42"
      }
     },
     "b7865d06739642b29914171f673aaf87": {
      "model_module": "@jupyter-widgets/controls",
      "model_module_version": "2.0.0",
      "model_name": "HTMLModel",
      "state": {
       "layout": "IPY_MODEL_7b22643cacd54b208c763bfecd561e54",
       "style": "IPY_MODEL_7e6b2ff0ccb5468981957a563fc5e2a9",
       "value": " 10402/10402 [00:00&lt;00:00, 32736.01 examples/s]"
      }
     },
     "b90e705617ae49bebe04504a31700f47": {
      "model_module": "@jupyter-widgets/base",
      "model_module_version": "2.0.0",
      "model_name": "LayoutModel",
      "state": {}
     },
     "bd3bd942f4be4a599302b9d4a83c49d4": {
      "model_module": "@jupyter-widgets/base",
      "model_module_version": "2.0.0",
      "model_name": "LayoutModel",
      "state": {}
     },
     "bdb2351d050e46c79831dc3f1c7b9c5d": {
      "model_module": "@jupyter-widgets/controls",
      "model_module_version": "2.0.0",
      "model_name": "HTMLModel",
      "state": {
       "layout": "IPY_MODEL_75b54f3db3234b57b8b36aa3a581902e",
       "style": "IPY_MODEL_1bf60f4bdf5443cdaf5f4be74d5b8012",
       "value": "Map: 100%"
      }
     },
     "bdc6b394052740d0b6aaa3f95368a850": {
      "model_module": "@jupyter-widgets/controls",
      "model_module_version": "2.0.0",
      "model_name": "FloatProgressModel",
      "state": {
       "bar_style": "success",
       "layout": "IPY_MODEL_fd61fa1ea0f04dc4aaa322452d3ad915",
       "max": 3465,
       "style": "IPY_MODEL_b324a81bf5d94065a20cd7a7db94b30c",
       "value": 3465
      }
     },
     "bf2064e8b19d47ed84a64be6cb450dac": {
      "model_module": "@jupyter-widgets/controls",
      "model_module_version": "2.0.0",
      "model_name": "HTMLModel",
      "state": {
       "layout": "IPY_MODEL_09cbaf19f7a24c5e8f2c087188c64e71",
       "style": "IPY_MODEL_ed3c93ab460d48b0b10753e323c115f5",
       "value": "Map: 100%"
      }
     },
     "c7ce24c27e3b4a6995e9f642e9ae2ffe": {
      "model_module": "@jupyter-widgets/controls",
      "model_module_version": "2.0.0",
      "model_name": "HBoxModel",
      "state": {
       "children": [
        "IPY_MODEL_4f2fd2e5a7224df989e0fca9f1b554a1",
        "IPY_MODEL_528dc1d6851f49b0b64a0308847cc398",
        "IPY_MODEL_9f7fbb0729ad45c4a8489e5fcd8e8d40"
       ],
       "layout": "IPY_MODEL_66a463d891cc4c75be68c95ee3a27e1c"
      }
     },
     "c876175e79944962800138de69ff1b50": {
      "model_module": "@jupyter-widgets/base",
      "model_module_version": "2.0.0",
      "model_name": "LayoutModel",
      "state": {}
     },
     "cab565001a3543918535fc5e162721f4": {
      "model_module": "@jupyter-widgets/base",
      "model_module_version": "2.0.0",
      "model_name": "LayoutModel",
      "state": {}
     },
     "cbc2e59a8af449cba47403f0a17787ed": {
      "model_module": "@jupyter-widgets/controls",
      "model_module_version": "2.0.0",
      "model_name": "HTMLStyleModel",
      "state": {
       "description_width": "",
       "font_size": null,
       "text_color": null
      }
     },
     "d2288b7fda3047138c59bda124697466": {
      "model_module": "@jupyter-widgets/controls",
      "model_module_version": "2.0.0",
      "model_name": "FloatProgressModel",
      "state": {
       "layout": "IPY_MODEL_6c4bdb08a8d246baab37c1d7d4505f3d",
       "max": 1,
       "style": "IPY_MODEL_7d114df7f77f419d90e4e811c366caeb"
      }
     },
     "d8ba4477fe624149a5cf28388b94b0e9": {
      "model_module": "@jupyter-widgets/base",
      "model_module_version": "2.0.0",
      "model_name": "LayoutModel",
      "state": {}
     },
     "da99dab5832943d79cd198d9f01c6d9c": {
      "model_module": "@jupyter-widgets/base",
      "model_module_version": "2.0.0",
      "model_name": "LayoutModel",
      "state": {}
     },
     "db695e28ff8e4f62956055151970c120": {
      "model_module": "@jupyter-widgets/controls",
      "model_module_version": "2.0.0",
      "model_name": "HTMLStyleModel",
      "state": {
       "description_width": "",
       "font_size": null,
       "text_color": null
      }
     },
     "ded5247f91d04ffc893f01e0268e92ec": {
      "model_module": "@jupyter-widgets/controls",
      "model_module_version": "2.0.0",
      "model_name": "ProgressStyleModel",
      "state": {
       "description_width": ""
      }
     },
     "e2e356328d834cd88af5a61a6dde9c4c": {
      "model_module": "@jupyter-widgets/controls",
      "model_module_version": "2.0.0",
      "model_name": "VBoxModel",
      "state": {
       "children": [
        "IPY_MODEL_af0eb589bb3b4b398844c2f1d0786fb0",
        "IPY_MODEL_274da510c54f472286b51241491e4db1"
       ],
       "layout": "IPY_MODEL_e5a2eac07109466c9d5cda4afcac8912"
      }
     },
     "e5a2eac07109466c9d5cda4afcac8912": {
      "model_module": "@jupyter-widgets/base",
      "model_module_version": "2.0.0",
      "model_name": "LayoutModel",
      "state": {}
     },
     "e8e198dbd8a9477282838ffeff48acf5": {
      "model_module": "@jupyter-widgets/base",
      "model_module_version": "2.0.0",
      "model_name": "LayoutModel",
      "state": {}
     },
     "ed3c93ab460d48b0b10753e323c115f5": {
      "model_module": "@jupyter-widgets/controls",
      "model_module_version": "2.0.0",
      "model_name": "HTMLStyleModel",
      "state": {
       "description_width": "",
       "font_size": null,
       "text_color": null
      }
     },
     "efb7ae9ae0b64cb79b64975bdad037ad": {
      "model_module": "@jupyter-widgets/controls",
      "model_module_version": "2.0.0",
      "model_name": "HTMLModel",
      "state": {
       "layout": "IPY_MODEL_bd3bd942f4be4a599302b9d4a83c49d4",
       "style": "IPY_MODEL_0587389489264504bd738a217c193309",
       "value": " 3466/3466 [00:00&lt;00:00, 28379.56 examples/s]"
      }
     },
     "f6a7c5fc142641ce996e14500d0063da": {
      "model_module": "@jupyter-widgets/base",
      "model_module_version": "2.0.0",
      "model_name": "LayoutModel",
      "state": {}
     },
     "f8aa4e241d284b0ebdc58d6659761255": {
      "model_module": "@jupyter-widgets/base",
      "model_module_version": "2.0.0",
      "model_name": "LayoutModel",
      "state": {}
     },
     "f99d85c66c55451186cc2dbcecc2649d": {
      "model_module": "@jupyter-widgets/controls",
      "model_module_version": "2.0.0",
      "model_name": "HBoxModel",
      "state": {
       "children": [
        "IPY_MODEL_afc9a97c58a54a32a46a8ea17e0e15ba",
        "IPY_MODEL_09af9576e748452ebeba9d77fae408a4",
        "IPY_MODEL_6c9ce78c76af4baa8154aad4aa6d212d"
       ],
       "layout": "IPY_MODEL_d8ba4477fe624149a5cf28388b94b0e9"
      }
     },
     "fbdeb13c7cbe4551b6e737e9a76bb554": {
      "model_module": "@jupyter-widgets/controls",
      "model_module_version": "2.0.0",
      "model_name": "ProgressStyleModel",
      "state": {
       "description_width": ""
      }
     },
     "fd61fa1ea0f04dc4aaa322452d3ad915": {
      "model_module": "@jupyter-widgets/base",
      "model_module_version": "2.0.0",
      "model_name": "LayoutModel",
      "state": {}
     },
     "ff3433d79c5342aebc41ee2d16cef3d1": {
      "model_module": "@jupyter-widgets/controls",
      "model_module_version": "2.0.0",
      "model_name": "HTMLModel",
      "state": {
       "layout": "IPY_MODEL_4c444f381c904a13bd6c5bb3665e9917",
       "style": "IPY_MODEL_db695e28ff8e4f62956055151970c120",
       "value": "Map: 100%"
      }
     }
    },
    "version_major": 2,
    "version_minor": 0
   }
  }
 },
 "nbformat": 4,
 "nbformat_minor": 4
}
