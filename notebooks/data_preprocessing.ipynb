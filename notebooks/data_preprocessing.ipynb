{
 "cells": [
  {
   "cell_type": "markdown",
   "metadata": {},
   "source": [
    "# Data Preprocessing\n",
    "\n",
    "In this notebook we will preprocess our reviews and remove unnecessary strings.\n"
   ]
  },
  {
   "cell_type": "code",
   "execution_count": 1,
   "metadata": {},
   "outputs": [],
   "source": [
    "import re\n",
    "import os\n",
    "import wandb\n",
    "import pandas as pd\n",
    "from typing import Optional\n",
    "from dotenv import load_dotenv\n",
    "from arabert.preprocess import ArabertPreprocessor\n",
    "from sklearn.model_selection import train_test_split\n",
    "\n",
    "from huggingface_hub import login\n",
    "from datasets import load_dataset\n",
    "\n",
    "from rich import print\n",
    "from pathlib import Path\n",
    "from tqdm.auto import tqdm\n",
    "from collections import defaultdict"
   ]
  },
  {
   "cell_type": "code",
   "execution_count": 2,
   "metadata": {},
   "outputs": [
    {
     "name": "stderr",
     "output_type": "stream",
     "text": [
      "\u001b[34m\u001b[1mwandb\u001b[0m: Currently logged in as: \u001b[33me_hossam96\u001b[0m. Use \u001b[1m`wandb login --relogin`\u001b[0m to force relogin\n"
     ]
    },
    {
     "name": "stdout",
     "output_type": "stream",
     "text": [
      "Token is valid (permission: write).\n",
      "Your token has been saved in your configured git credential helpers (store).\n",
      "Your token has been saved to /home/hossam/.cache/huggingface/token\n",
      "Login successful\n"
     ]
    }
   ],
   "source": [
    "tqdm.pandas()\n",
    "load_dotenv()\n",
    "wandb.login()\n",
    "login(token=os.getenv('HF_TOKEN'),\n",
    "      add_to_git_credential=True, write_permission=True)  # HF"
   ]
  },
  {
   "cell_type": "code",
   "execution_count": 3,
   "metadata": {},
   "outputs": [],
   "source": [
    "# wandb configs\n",
    "PROJECT_NAME = 'ARABIC_DISAMBIGUATION_STUDY'\n",
    "JOB_TYPE = 'DATA_PREPROCESSING'\n",
    "TAGS = ['ARABERT_PREPROCESSOR', 'FARASAPY', 'REGEX', 'TOPIC']\n",
    "NOTES = 'Preprocessing data for topic classification with disambiguation'\n",
    "RUN_NAME = 'Data_Preprocessing_SANAD'\n",
    "config = defaultdict(dict)"
   ]
  },
  {
   "cell_type": "code",
   "execution_count": 32,
   "metadata": {},
   "outputs": [],
   "source": [
    "seed = 42\n",
    "arabert_model = 'aubmindlab/bert-base-arabertv2'\n",
    "# data_path = Path('../data/ArSen-20_publish.csv')\n",
    "data_ckpt = 'arbml/SANAD'\n",
    "processed_data_path = Path('../data/processed_data/sanad/')"
   ]
  },
  {
   "cell_type": "code",
   "execution_count": 5,
   "metadata": {},
   "outputs": [],
   "source": [
    "# if data_path.suffix == '.csv':\n",
    "#     data = pd.read_csv(data_path)"
   ]
  },
  {
   "cell_type": "code",
   "execution_count": 6,
   "metadata": {},
   "outputs": [
    {
     "name": "stderr",
     "output_type": "stream",
     "text": [
      "Repo card metadata block was not found. Setting CardData to empty.\n"
     ]
    },
    {
     "data": {
      "text/plain": [
       "DatasetDict({\n",
       "    train: Dataset({\n",
       "        features: ['Article', 'label'],\n",
       "        num_rows: 141807\n",
       "    })\n",
       "})"
      ]
     },
     "execution_count": 6,
     "metadata": {},
     "output_type": "execute_result"
    }
   ],
   "source": [
    "data = load_dataset(data_ckpt, trust_remote_code=True)\n",
    "data"
   ]
  },
  {
   "cell_type": "code",
   "execution_count": 7,
   "metadata": {},
   "outputs": [
    {
     "data": {
      "text/html": [
       "<pre style=\"white-space:pre;overflow-x:auto;line-height:normal;font-family:Menlo,'DejaVu Sans Mono',consolas,'Courier New',monospace\"><span style=\"font-weight: bold\">{</span>\n",
       "    <span style=\"color: #008000; text-decoration-color: #008000\">'Article'</span>: <span style=\"color: #008000; text-decoration-color: #008000\">'يحيي كل من العروسي وعواطف وعمار والعنبري أمجاد الأغنية المغربية العصرية والكلاسيكية، في سهرة تنظم </span>\n",
       "<span style=\"color: #008000; text-decoration-color: #008000\">يوم 26 ماي المقبل، بمركب مولاي عبد الله. من جهته، يتقاسم الفنان الشاب حاتم عمور منصة النهضة المخصصة للأغنية </span>\n",
       "<span style=\"color: #008000; text-decoration-color: #008000\">الشرقية، مع ألمع نجوم الطرب العربي، ليروي عطش عشاق الأغنية المغربية الأصيلة، في سهرة تقام في 31 ماي. وتتوقع \"مغرب </span>\n",
       "<span style=\"color: #008000; text-decoration-color: #008000\">الثقافات\" إقبالا جماهيريا كبيرا على السهرتين المغربيتين خلال هذه الدورة المنظمة من 24 ماي إلى فاتح يونيو المقبلين، </span>\n",
       "<span style=\"color: #008000; text-decoration-color: #008000\">بفضل شعبية النجوم الخمسة، سواء المغنية الاستثنائية عواطف، التي تحدّت الإعاقة واستحوذت على حب الجمهور وإعجابه بقدرتها</span>\n",
       "<span style=\"color: #008000; text-decoration-color: #008000\">على الغناء بخمس لغات، وفاطمة الزهراء العروسي، الملقبة بـ\"زهرة الطرب\"، التي ولجت عالم الفن وتألقت فيه في سن مبكرة، </span>\n",
       "<span style=\"color: #008000; text-decoration-color: #008000\">بالإضافة إلى محمد العنبري، ابن مدينة فاس، الحاصل على جوائز وطنية ودولية عدة، وعتيقة عمار، كواحدة من أعمدة الأغنية </span>\n",
       "<span style=\"color: #008000; text-decoration-color: #008000\">المغربية، وأخيرا، المغني الشاب حاتم عمور، الذي اختبر دعم الجمهور وحبه في أكثر من مناسبة، وأهمها مشاركته في برنامج </span>\n",
       "<span style=\"color: #008000; text-decoration-color: #008000\">المسابقات الغنائية \"استوديو دوزيم\". وفي إطار الدعم، الذي توليه إدارة مهرجان \"موازين.. إيقاعات العالم\" للأغنية </span>\n",
       "<span style=\"color: #008000; text-decoration-color: #008000\">المغربية بمختلف أصنافها، أعلنت \"مغرب الثقافات\"، في وقت سابق، عن مشاركة كل من مجموعات \"السهام\"، و\"جيل الغيوان\"، </span>\n",
       "<span style=\"color: #008000; text-decoration-color: #008000\">و\"غيوان سلوان\" بمنصة المركب الرياضي الأمير مولاي عبد الله، كما سيلتقي عشاق \"كناوة والبلوز\" بالمنصة ذاتها، مع وصلات </span>\n",
       "<span style=\"color: #008000; text-decoration-color: #008000\">غنائية للفنانين جبارة ومجيد بقاس يوم 25 ماي المقبل.'</span>,\n",
       "    <span style=\"color: #008000; text-decoration-color: #008000\">'label'</span>: <span style=\"color: #008080; text-decoration-color: #008080; font-weight: bold\">5</span>\n",
       "<span style=\"font-weight: bold\">}</span>\n",
       "</pre>\n"
      ],
      "text/plain": [
       "\u001b[1m{\u001b[0m\n",
       "    \u001b[32m'Article'\u001b[0m: \u001b[32m'يحيي كل من العروسي وعواطف وعمار والعنبري أمجاد الأغنية المغربية العصرية والكلاسيكية، في سهرة تنظم \u001b[0m\n",
       "\u001b[32mيوم 26 ماي المقبل، بمركب مولاي عبد الله. من جهته، يتقاسم الفنان الشاب حاتم عمور منصة النهضة المخصصة للأغنية \u001b[0m\n",
       "\u001b[32mالشرقية، مع ألمع نجوم الطرب العربي، ليروي عطش عشاق الأغنية المغربية الأصيلة، في سهرة تقام في 31 ماي. وتتوقع \"مغرب \u001b[0m\n",
       "\u001b[32mالثقافات\" إقبالا جماهيريا كبيرا على السهرتين المغربيتين خلال هذه الدورة المنظمة من 24 ماي إلى فاتح يونيو المقبلين، \u001b[0m\n",
       "\u001b[32mبفضل شعبية النجوم الخمسة، سواء المغنية الاستثنائية عواطف، التي تحدّت الإعاقة واستحوذت على حب الجمهور وإعجابه بقدرتها\u001b[0m\n",
       "\u001b[32mعلى الغناء بخمس لغات، وفاطمة الزهراء العروسي، الملقبة بـ\"زهرة الطرب\"، التي ولجت عالم الفن وتألقت فيه في سن مبكرة، \u001b[0m\n",
       "\u001b[32mبالإضافة إلى محمد العنبري، ابن مدينة فاس، الحاصل على جوائز وطنية ودولية عدة، وعتيقة عمار، كواحدة من أعمدة الأغنية \u001b[0m\n",
       "\u001b[32mالمغربية، وأخيرا، المغني الشاب حاتم عمور، الذي اختبر دعم الجمهور وحبه في أكثر من مناسبة، وأهمها مشاركته في برنامج \u001b[0m\n",
       "\u001b[32mالمسابقات الغنائية \"استوديو دوزيم\". وفي إطار الدعم، الذي توليه إدارة مهرجان \"موازين.. إيقاعات العالم\" للأغنية \u001b[0m\n",
       "\u001b[32mالمغربية بمختلف أصنافها، أعلنت \"مغرب الثقافات\"، في وقت سابق، عن مشاركة كل من مجموعات \"السهام\"، و\"جيل الغيوان\"، \u001b[0m\n",
       "\u001b[32mو\"غيوان سلوان\" بمنصة المركب الرياضي الأمير مولاي عبد الله، كما سيلتقي عشاق \"كناوة والبلوز\" بالمنصة ذاتها، مع وصلات \u001b[0m\n",
       "\u001b[32mغنائية للفنانين جبارة ومجيد بقاس يوم 25 ماي المقبل.'\u001b[0m,\n",
       "    \u001b[32m'label'\u001b[0m: \u001b[1;36m5\u001b[0m\n",
       "\u001b[1m}\u001b[0m\n"
      ]
     },
     "metadata": {},
     "output_type": "display_data"
    }
   ],
   "source": [
    "print(data['train'][0])"
   ]
  },
  {
   "cell_type": "code",
   "execution_count": 8,
   "metadata": {},
   "outputs": [
    {
     "data": {
      "text/html": [
       "<pre style=\"white-space:pre;overflow-x:auto;line-height:normal;font-family:Menlo,'DejaVu Sans Mono',consolas,'Courier New',monospace\"><span style=\"font-weight: bold\">[</span><span style=\"color: #008000; text-decoration-color: #008000\">'Tech'</span>, <span style=\"color: #008000; text-decoration-color: #008000\">'Finance'</span>, <span style=\"color: #008000; text-decoration-color: #008000\">'Politics'</span>, <span style=\"color: #008000; text-decoration-color: #008000\">'Religion'</span>, <span style=\"color: #008000; text-decoration-color: #008000\">'Medical'</span>, <span style=\"color: #008000; text-decoration-color: #008000\">'Culture'</span>, <span style=\"color: #008000; text-decoration-color: #008000\">'Sports'</span><span style=\"font-weight: bold\">]</span>\n",
       "</pre>\n"
      ],
      "text/plain": [
       "\u001b[1m[\u001b[0m\u001b[32m'Tech'\u001b[0m, \u001b[32m'Finance'\u001b[0m, \u001b[32m'Politics'\u001b[0m, \u001b[32m'Religion'\u001b[0m, \u001b[32m'Medical'\u001b[0m, \u001b[32m'Culture'\u001b[0m, \u001b[32m'Sports'\u001b[0m\u001b[1m]\u001b[0m\n"
      ]
     },
     "metadata": {},
     "output_type": "display_data"
    }
   ],
   "source": [
    "label_names = data['train'].features['label'].names\n",
    "print(label_names)"
   ]
  },
  {
   "cell_type": "code",
   "execution_count": 9,
   "metadata": {},
   "outputs": [
    {
     "data": {
      "text/html": [
       "<div>\n",
       "<style scoped>\n",
       "    .dataframe tbody tr th:only-of-type {\n",
       "        vertical-align: middle;\n",
       "    }\n",
       "\n",
       "    .dataframe tbody tr th {\n",
       "        vertical-align: top;\n",
       "    }\n",
       "\n",
       "    .dataframe thead th {\n",
       "        text-align: right;\n",
       "    }\n",
       "</style>\n",
       "<table border=\"1\" class=\"dataframe\">\n",
       "  <thead>\n",
       "    <tr style=\"text-align: right;\">\n",
       "      <th></th>\n",
       "      <th>Article</th>\n",
       "      <th>label</th>\n",
       "    </tr>\n",
       "  </thead>\n",
       "  <tbody>\n",
       "    <tr>\n",
       "      <th>0</th>\n",
       "      <td>يحيي كل من العروسي وعواطف وعمار والعنبري أمجاد...</td>\n",
       "      <td>5</td>\n",
       "    </tr>\n",
       "    <tr>\n",
       "      <th>1</th>\n",
       "      <td>أخبارنا المغربية ـ هدى جميعي\\nتحول فنان مغربي ...</td>\n",
       "      <td>5</td>\n",
       "    </tr>\n",
       "  </tbody>\n",
       "</table>\n",
       "</div>"
      ],
      "text/plain": [
       "                                             Article  label\n",
       "0  يحيي كل من العروسي وعواطف وعمار والعنبري أمجاد...      5\n",
       "1  أخبارنا المغربية ـ هدى جميعي\\nتحول فنان مغربي ...      5"
      ]
     },
     "execution_count": 9,
     "metadata": {},
     "output_type": "execute_result"
    }
   ],
   "source": [
    "data = data['train'].to_pandas()\n",
    "data.head(2)"
   ]
  },
  {
   "cell_type": "code",
   "execution_count": 10,
   "metadata": {},
   "outputs": [
    {
     "data": {
      "application/vnd.jupyter.widget-view+json": {
       "model_id": "d852932ae8274a9e8a8593b3b63562e9",
       "version_major": 2,
       "version_minor": 0
      },
      "text/plain": [
       "  0%|          | 0/141807 [00:00<?, ?it/s]"
      ]
     },
     "metadata": {},
     "output_type": "display_data"
    }
   ],
   "source": [
    "data['label'] = data.label.progress_apply(lambda x: label_names[x])"
   ]
  },
  {
   "cell_type": "code",
   "execution_count": 11,
   "metadata": {},
   "outputs": [
    {
     "data": {
      "text/html": [
       "<div>\n",
       "<style scoped>\n",
       "    .dataframe tbody tr th:only-of-type {\n",
       "        vertical-align: middle;\n",
       "    }\n",
       "\n",
       "    .dataframe tbody tr th {\n",
       "        vertical-align: top;\n",
       "    }\n",
       "\n",
       "    .dataframe thead th {\n",
       "        text-align: right;\n",
       "    }\n",
       "</style>\n",
       "<table border=\"1\" class=\"dataframe\">\n",
       "  <thead>\n",
       "    <tr style=\"text-align: right;\">\n",
       "      <th></th>\n",
       "      <th>Article</th>\n",
       "      <th>label</th>\n",
       "    </tr>\n",
       "  </thead>\n",
       "  <tbody>\n",
       "    <tr>\n",
       "      <th>0</th>\n",
       "      <td>يحيي كل من العروسي وعواطف وعمار والعنبري أمجاد...</td>\n",
       "      <td>Culture</td>\n",
       "    </tr>\n",
       "    <tr>\n",
       "      <th>1</th>\n",
       "      <td>أخبارنا المغربية ـ هدى جميعي\\nتحول فنان مغربي ...</td>\n",
       "      <td>Culture</td>\n",
       "    </tr>\n",
       "  </tbody>\n",
       "</table>\n",
       "</div>"
      ],
      "text/plain": [
       "                                             Article    label\n",
       "0  يحيي كل من العروسي وعواطف وعمار والعنبري أمجاد...  Culture\n",
       "1  أخبارنا المغربية ـ هدى جميعي\\nتحول فنان مغربي ...  Culture"
      ]
     },
     "execution_count": 11,
     "metadata": {},
     "output_type": "execute_result"
    }
   ],
   "source": [
    "data.head(2)"
   ]
  },
  {
   "cell_type": "code",
   "execution_count": 12,
   "metadata": {},
   "outputs": [
    {
     "name": "stdout",
     "output_type": "stream",
     "text": [
      "<class 'pandas.core.frame.DataFrame'>\n",
      "RangeIndex: 141807 entries, 0 to 141806\n",
      "Data columns (total 2 columns):\n",
      " #   Column   Non-Null Count   Dtype \n",
      "---  ------   --------------   ----- \n",
      " 0   Article  141807 non-null  object\n",
      " 1   label    141807 non-null  object\n",
      "dtypes: object(2)\n",
      "memory usage: 2.2+ MB\n"
     ]
    }
   ],
   "source": [
    "data.info()"
   ]
  },
  {
   "cell_type": "code",
   "execution_count": 13,
   "metadata": {},
   "outputs": [
    {
     "data": {
      "text/html": [
       "<pre style=\"white-space:pre;overflow-x:auto;line-height:normal;font-family:Menlo,'DejaVu Sans Mono',consolas,'Courier New',monospace\"><span style=\"font-weight: bold\">{</span>\n",
       "    <span style=\"color: #008000; text-decoration-color: #008000\">'Finance'</span>: <span style=\"color: #008080; text-decoration-color: #008080; font-weight: bold\">0.2775321387519657</span>,\n",
       "    <span style=\"color: #008000; text-decoration-color: #008000\">'Sports'</span>: <span style=\"color: #008080; text-decoration-color: #008080; font-weight: bold\">0.2084382294244995</span>,\n",
       "    <span style=\"color: #008000; text-decoration-color: #008000\">'Politics'</span>: <span style=\"color: #008080; text-decoration-color: #008080; font-weight: bold\">0.14441459166331705</span>,\n",
       "    <span style=\"color: #008000; text-decoration-color: #008000\">'Medical'</span>: <span style=\"color: #008080; text-decoration-color: #008080; font-weight: bold\">0.13713709478375538</span>,\n",
       "    <span style=\"color: #008000; text-decoration-color: #008000\">'Tech'</span>: <span style=\"color: #008080; text-decoration-color: #008080; font-weight: bold\">0.1318623199136855</span>,\n",
       "    <span style=\"color: #008000; text-decoration-color: #008000\">'Religion'</span>: <span style=\"color: #008080; text-decoration-color: #008080; font-weight: bold\">0.05304392589928565</span>,\n",
       "    <span style=\"color: #008000; text-decoration-color: #008000\">'Culture'</span>: <span style=\"color: #008080; text-decoration-color: #008080; font-weight: bold\">0.04757169956349122</span>\n",
       "<span style=\"font-weight: bold\">}</span>\n",
       "</pre>\n"
      ],
      "text/plain": [
       "\u001b[1m{\u001b[0m\n",
       "    \u001b[32m'Finance'\u001b[0m: \u001b[1;36m0.2775321387519657\u001b[0m,\n",
       "    \u001b[32m'Sports'\u001b[0m: \u001b[1;36m0.2084382294244995\u001b[0m,\n",
       "    \u001b[32m'Politics'\u001b[0m: \u001b[1;36m0.14441459166331705\u001b[0m,\n",
       "    \u001b[32m'Medical'\u001b[0m: \u001b[1;36m0.13713709478375538\u001b[0m,\n",
       "    \u001b[32m'Tech'\u001b[0m: \u001b[1;36m0.1318623199136855\u001b[0m,\n",
       "    \u001b[32m'Religion'\u001b[0m: \u001b[1;36m0.05304392589928565\u001b[0m,\n",
       "    \u001b[32m'Culture'\u001b[0m: \u001b[1;36m0.04757169956349122\u001b[0m\n",
       "\u001b[1m}\u001b[0m\n"
      ]
     },
     "metadata": {},
     "output_type": "display_data"
    }
   ],
   "source": [
    "print(data.label.value_counts(normalize=True).to_dict())"
   ]
  },
  {
   "cell_type": "code",
   "execution_count": 14,
   "metadata": {},
   "outputs": [
    {
     "name": "stdout",
     "output_type": "stream",
     "text": [
      "<class 'pandas.core.frame.DataFrame'>\n",
      "Index: 10000 entries, 57159 to 120789\n",
      "Data columns (total 2 columns):\n",
      " #   Column   Non-Null Count  Dtype \n",
      "---  ------   --------------  ----- \n",
      " 0   Article  10000 non-null  object\n",
      " 1   label    10000 non-null  object\n",
      "dtypes: object(2)\n",
      "memory usage: 234.4+ KB\n"
     ]
    }
   ],
   "source": [
    "# select subsample of the data\n",
    "_, data = train_test_split(data, test_size=10_000, random_state=seed, stratify=data.label.to_list())\n",
    "data.info()"
   ]
  },
  {
   "cell_type": "code",
   "execution_count": 15,
   "metadata": {},
   "outputs": [
    {
     "data": {
      "text/html": [
       "<div>\n",
       "<style scoped>\n",
       "    .dataframe tbody tr th:only-of-type {\n",
       "        vertical-align: middle;\n",
       "    }\n",
       "\n",
       "    .dataframe tbody tr th {\n",
       "        vertical-align: top;\n",
       "    }\n",
       "\n",
       "    .dataframe thead th {\n",
       "        text-align: right;\n",
       "    }\n",
       "</style>\n",
       "<table border=\"1\" class=\"dataframe\">\n",
       "  <thead>\n",
       "    <tr style=\"text-align: right;\">\n",
       "      <th></th>\n",
       "      <th>Article</th>\n",
       "      <th>label</th>\n",
       "    </tr>\n",
       "  </thead>\n",
       "  <tbody>\n",
       "    <tr>\n",
       "      <th>57159</th>\n",
       "      <td>كثيرا ما ربطت دراسات عديدة بين تناول المكسرات ...</td>\n",
       "      <td>Medical</td>\n",
       "    </tr>\n",
       "    <tr>\n",
       "      <th>79089</th>\n",
       "      <td>أخبارنا:الرباط\\nمن المرتقب أن تعيد الدولة المغ...</td>\n",
       "      <td>Politics</td>\n",
       "    </tr>\n",
       "  </tbody>\n",
       "</table>\n",
       "</div>"
      ],
      "text/plain": [
       "                                                 Article     label\n",
       "57159  كثيرا ما ربطت دراسات عديدة بين تناول المكسرات ...   Medical\n",
       "79089  أخبارنا:الرباط\\nمن المرتقب أن تعيد الدولة المغ...  Politics"
      ]
     },
     "execution_count": 15,
     "metadata": {},
     "output_type": "execute_result"
    }
   ],
   "source": [
    "data.head(2)"
   ]
  },
  {
   "cell_type": "code",
   "execution_count": 16,
   "metadata": {},
   "outputs": [],
   "source": [
    "data = data.rename(columns={'Article': 'text'}).reset_index(drop=True)"
   ]
  },
  {
   "cell_type": "code",
   "execution_count": 17,
   "metadata": {},
   "outputs": [
    {
     "data": {
      "text/html": [
       "<pre style=\"white-space:pre;overflow-x:auto;line-height:normal;font-family:Menlo,'DejaVu Sans Mono',consolas,'Courier New',monospace\">مبديع : نسبة المشاركة في الإضراب الوطني الأخير  كانت في حدود <span style=\"color: #008080; text-decoration-color: #008080; font-weight: bold\">22</span> في المائة\n",
       "\n",
       " \n",
       "قال السيد محمد مبديع الوزير المنتدب لدى رئيس الحكومة المكلف بالوظيفة العمومية وتحديث الإدارة، اليوم الخميس، إن \n",
       "الإضراب الوطني الاخير بالإدارات العمومية والجماعات الترابية <span style=\"color: #008000; text-decoration-color: #008000\">\"مر في ظروف مسؤولة وجد عادية\"</span>، مضيفا أن نسبة المشاركة \n",
       "كانت في حدود <span style=\"color: #008080; text-decoration-color: #008080; font-weight: bold\">22</span> في المائة.وجاء في بلاغ تلاه السيد مصطفى الخلفي وزير الاتصال الناطق الرسمي باسم الحكومة خلال ندوة \n",
       "صحافية عقب انعقاد مجلس الحكومة أن السيد مبديع أكد في عرض حول الإضراب الوطني بالإدارات العمومية والجماعات الترابية \n",
       "ليوم الثلاثاء الماضي على <span style=\"color: #008000; text-decoration-color: #008000\">\"أن هذا الإضراب مر في ظروف مسؤولة وجد عادية، دون أن تسجل أي تجاوزات أو اختلالات في السير </span>\n",
       "<span style=\"color: #008000; text-decoration-color: #008000\">العادي للمرافق العمومية\"</span> . وأبرز السيد مبديع في هذا العرض أن الحكومة عملت على عدم الدخول في جدل الأرقام وعدم \n",
       "التعليق على الأرقام التي قدمت من طرف الهيئات النقابية التي دعت الى الإضراب.\n",
       "</pre>\n"
      ],
      "text/plain": [
       "مبديع : نسبة المشاركة في الإضراب الوطني الأخير  كانت في حدود \u001b[1;36m22\u001b[0m في المائة\n",
       "\n",
       " \n",
       "قال السيد محمد مبديع الوزير المنتدب لدى رئيس الحكومة المكلف بالوظيفة العمومية وتحديث الإدارة، اليوم الخميس، إن \n",
       "الإضراب الوطني الاخير بالإدارات العمومية والجماعات الترابية \u001b[32m\"مر في ظروف مسؤولة وجد عادية\"\u001b[0m، مضيفا أن نسبة المشاركة \n",
       "كانت في حدود \u001b[1;36m22\u001b[0m في المائة.وجاء في بلاغ تلاه السيد مصطفى الخلفي وزير الاتصال الناطق الرسمي باسم الحكومة خلال ندوة \n",
       "صحافية عقب انعقاد مجلس الحكومة أن السيد مبديع أكد في عرض حول الإضراب الوطني بالإدارات العمومية والجماعات الترابية \n",
       "ليوم الثلاثاء الماضي على \u001b[32m\"أن هذا الإضراب مر في ظروف مسؤولة وجد عادية، دون أن تسجل أي تجاوزات أو اختلالات في السير \u001b[0m\n",
       "\u001b[32mالعادي للمرافق العمومية\"\u001b[0m . وأبرز السيد مبديع في هذا العرض أن الحكومة عملت على عدم الدخول في جدل الأرقام وعدم \n",
       "التعليق على الأرقام التي قدمت من طرف الهيئات النقابية التي دعت الى الإضراب.\n"
      ]
     },
     "metadata": {},
     "output_type": "display_data"
    }
   ],
   "source": [
    "i = 100  # 14\n",
    "print(data.loc[i, 'text'])"
   ]
  },
  {
   "cell_type": "code",
   "execution_count": 18,
   "metadata": {},
   "outputs": [
    {
     "name": "stderr",
     "output_type": "stream",
     "text": [
      "[2024-09-14 02:27:20,822 - farasapy_logger - WARNING]: Be careful with large lines as they may break on interactive mode. You may switch to Standalone mode for such cases.\n"
     ]
    }
   ],
   "source": [
    "arabert_prep = ArabertPreprocessor(model_name=arabert_model)"
   ]
  },
  {
   "cell_type": "code",
   "execution_count": 19,
   "metadata": {},
   "outputs": [
    {
     "data": {
      "text/html": [
       "<pre style=\"white-space:pre;overflow-x:auto;line-height:normal;font-family:Menlo,'DejaVu Sans Mono',consolas,'Courier New',monospace\">مبديع : نسب +ة ال+ مشارك +ة في ال+ إضراب ال+ وطني ال+ أخير كان +ت في حدود <span style=\"color: #008080; text-decoration-color: #008080; font-weight: bold\">22</span> في ال+ مائ +ة قال ال+ سيد محمد مبديع \n",
       "ال+ وزير ال+ منتدب لدى رئيس ال+ حكوم +ة ال+ مكلف ب+ ال+ وظيف +ة ال+ عمومي +ة و+ تحديث ال+ إدار +ة ، ال+ يوم ال+ \n",
       "خميس ، إن ال+ إضراب ال+ وطني ال+ أخير ب+ ال+ إدار +ات ال+ عمومي +ة و+ ال+ جماع +ات ال+ ترابي +ة <span style=\"color: #008000; text-decoration-color: #008000\">\" مر في ظروف مسؤول </span>\n",
       "<span style=\"color: #008000; text-decoration-color: #008000\">+ة وجد عادي +ة \"</span> ، مضيف +ا أن نسب +ة ال+ مشارك +ة كان +ت في حدود <span style=\"color: #008080; text-decoration-color: #008080; font-weight: bold\">22</span> في ال+ مائ +ة . و+ جاء في بلاغ تلا +ه ال+ سيد \n",
       "مصطفى ال+ خلفي وزير ال+ اتصال ال+ ناطق ال+ رسمي باسم ال+ حكوم +ة خلال ندو +ة صحافي +ة عقب انعقاد مجلس ال+ حكوم +ة \n",
       "أن ال+ سيد مبديع أكد في عرض حول ال+ إضراب ال+ وطني ب+ ال+ إدار +ات ال+ عمومي +ة و+ ال+ جماع +ات ال+ ترابي +ة ل+ يوم\n",
       "ال+ ثلاثاء ال+ ماضي على <span style=\"color: #008000; text-decoration-color: #008000\">\" أن هذا ال+ إضراب مر في ظروف مسؤول +ة وجد عادي +ة ، دون أن تسجل أي تجاوز +ات أو اختلال +ات</span>\n",
       "<span style=\"color: #008000; text-decoration-color: #008000\">في ال+ سير ال+ عادي ل+ ال+ مرافق ال+ عمومي +ة \"</span> . و+ أبرز ال+ سيد مبديع في هذا ال+ عرض أن ال+ حكوم +ة عمل +ت على \n",
       "عدم ال+ دخول في جدل ال+ أرقام و+ عدم ال+ تعليق على ال+ أرقام التي قدم +ت من طرف ال+ هيئ +ات ال+ نقابي +ة التي دع +ت\n",
       "الى ال+ إضراب .\n",
       "</pre>\n"
      ],
      "text/plain": [
       "مبديع : نسب +ة ال+ مشارك +ة في ال+ إضراب ال+ وطني ال+ أخير كان +ت في حدود \u001b[1;36m22\u001b[0m في ال+ مائ +ة قال ال+ سيد محمد مبديع \n",
       "ال+ وزير ال+ منتدب لدى رئيس ال+ حكوم +ة ال+ مكلف ب+ ال+ وظيف +ة ال+ عمومي +ة و+ تحديث ال+ إدار +ة ، ال+ يوم ال+ \n",
       "خميس ، إن ال+ إضراب ال+ وطني ال+ أخير ب+ ال+ إدار +ات ال+ عمومي +ة و+ ال+ جماع +ات ال+ ترابي +ة \u001b[32m\" مر في ظروف مسؤول \u001b[0m\n",
       "\u001b[32m+ة وجد عادي +ة \"\u001b[0m ، مضيف +ا أن نسب +ة ال+ مشارك +ة كان +ت في حدود \u001b[1;36m22\u001b[0m في ال+ مائ +ة . و+ جاء في بلاغ تلا +ه ال+ سيد \n",
       "مصطفى ال+ خلفي وزير ال+ اتصال ال+ ناطق ال+ رسمي باسم ال+ حكوم +ة خلال ندو +ة صحافي +ة عقب انعقاد مجلس ال+ حكوم +ة \n",
       "أن ال+ سيد مبديع أكد في عرض حول ال+ إضراب ال+ وطني ب+ ال+ إدار +ات ال+ عمومي +ة و+ ال+ جماع +ات ال+ ترابي +ة ل+ يوم\n",
       "ال+ ثلاثاء ال+ ماضي على \u001b[32m\" أن هذا ال+ إضراب مر في ظروف مسؤول +ة وجد عادي +ة ، دون أن تسجل أي تجاوز +ات أو اختلال +ات\u001b[0m\n",
       "\u001b[32mفي ال+ سير ال+ عادي ل+ ال+ مرافق ال+ عمومي +ة \"\u001b[0m . و+ أبرز ال+ سيد مبديع في هذا ال+ عرض أن ال+ حكوم +ة عمل +ت على \n",
       "عدم ال+ دخول في جدل ال+ أرقام و+ عدم ال+ تعليق على ال+ أرقام التي قدم +ت من طرف ال+ هيئ +ات ال+ نقابي +ة التي دع +ت\n",
       "الى ال+ إضراب .\n"
      ]
     },
     "metadata": {},
     "output_type": "display_data"
    }
   ],
   "source": [
    "print(arabert_prep.preprocess(data.loc[i, 'text']))"
   ]
  },
  {
   "cell_type": "code",
   "execution_count": 20,
   "metadata": {},
   "outputs": [],
   "source": [
    "def clean_text(tweet: str, is_arabert: Optional[bool] = False) -> str:\n",
    "    '''Preprocess and clean text using Farasapy and regex rules.'''\n",
    "    text = arabert_prep.preprocess(tweet)\n",
    "    if not is_arabert:\n",
    "        text = arabert_prep.unpreprocess(text)\n",
    "    # regex patterns\n",
    "    link = r'\\[رابط\\]'\n",
    "    user = r'\\[مستخدم\\]'\n",
    "    mail = r'\\[بريد\\]'\n",
    "    underscore = r'_'\n",
    "    hashtag = r'#'\n",
    "    space = r'\\s+'\n",
    "    patterns = [link, user, mail, underscore, hashtag, space]\n",
    "    for p in patterns:\n",
    "        text = re.sub(p, ' ', text)\n",
    "    return text"
   ]
  },
  {
   "cell_type": "code",
   "execution_count": 21,
   "metadata": {},
   "outputs": [
    {
     "data": {
      "text/html": [
       "<pre style=\"white-space:pre;overflow-x:auto;line-height:normal;font-family:Menlo,'DejaVu Sans Mono',consolas,'Courier New',monospace\">مبديع: نسبة المشاركة في الإضراب الوطني الأخير كانت في حدود <span style=\"color: #008080; text-decoration-color: #008080; font-weight: bold\">22</span> في المائة قال السيد محمد مبديع الوزير المنتدب لدى \n",
       "رئيس الحكومة المكلف بالوظيفة العمومية وتحديث الإدارة، اليوم الخميس، إن الإضراب الوطني الأخير بالإدارات العمومية \n",
       "والجماعات الترابية <span style=\"color: #008000; text-decoration-color: #008000\">\"مر في ظروف مسؤولة وجد عادية\"</span>، مضيفا أن نسبة المشاركة كانت في حدود <span style=\"color: #008080; text-decoration-color: #008080; font-weight: bold\">22</span> في المائة. وجاء في بلاغ \n",
       "تلاه السيد مصطفى الخلفي وزير الاتصال الناطق الرسمي باسم الحكومة خلال ندوة صحافية عقب انعقاد مجلس الحكومة أن السيد \n",
       "مبديع أكد في عرض حول الإضراب الوطني بالإدارات العمومية والجماعات الترابية ليوم الثلاثاء الماضي على <span style=\"color: #008000; text-decoration-color: #008000\">\"أن هذا الإضراب </span>\n",
       "<span style=\"color: #008000; text-decoration-color: #008000\">مر في ظروف مسؤولة وجد عادية، دون أن تسجل أي تجاوزات أو اختلالات في السير العادي للمرافق العمومية\"</span>. وأبرز السيد \n",
       "مبديع في هذا العرض أن الحكومة عملت على عدم الدخول في جدل الأرقام وعدم التعليق على الأرقام التي قدمت من طرف الهيئات \n",
       "النقابية التي دعت الى الإضراب.\n",
       "</pre>\n"
      ],
      "text/plain": [
       "مبديع: نسبة المشاركة في الإضراب الوطني الأخير كانت في حدود \u001b[1;36m22\u001b[0m في المائة قال السيد محمد مبديع الوزير المنتدب لدى \n",
       "رئيس الحكومة المكلف بالوظيفة العمومية وتحديث الإدارة، اليوم الخميس، إن الإضراب الوطني الأخير بالإدارات العمومية \n",
       "والجماعات الترابية \u001b[32m\"مر في ظروف مسؤولة وجد عادية\"\u001b[0m، مضيفا أن نسبة المشاركة كانت في حدود \u001b[1;36m22\u001b[0m في المائة. وجاء في بلاغ \n",
       "تلاه السيد مصطفى الخلفي وزير الاتصال الناطق الرسمي باسم الحكومة خلال ندوة صحافية عقب انعقاد مجلس الحكومة أن السيد \n",
       "مبديع أكد في عرض حول الإضراب الوطني بالإدارات العمومية والجماعات الترابية ليوم الثلاثاء الماضي على \u001b[32m\"أن هذا الإضراب \u001b[0m\n",
       "\u001b[32mمر في ظروف مسؤولة وجد عادية، دون أن تسجل أي تجاوزات أو اختلالات في السير العادي للمرافق العمومية\"\u001b[0m. وأبرز السيد \n",
       "مبديع في هذا العرض أن الحكومة عملت على عدم الدخول في جدل الأرقام وعدم التعليق على الأرقام التي قدمت من طرف الهيئات \n",
       "النقابية التي دعت الى الإضراب.\n"
      ]
     },
     "metadata": {},
     "output_type": "display_data"
    }
   ],
   "source": [
    "print(clean_text(data.loc[i, 'text']))"
   ]
  },
  {
   "cell_type": "code",
   "execution_count": 23,
   "metadata": {},
   "outputs": [
    {
     "data": {
      "application/vnd.jupyter.widget-view+json": {
       "model_id": "74f2c61f487c43e184752563292decf8",
       "version_major": 2,
       "version_minor": 0
      },
      "text/plain": [
       "  0%|          | 0/10000 [00:00<?, ?it/s]"
      ]
     },
     "metadata": {},
     "output_type": "display_data"
    }
   ],
   "source": [
    "data['processed_text'] = data.text.progress_apply(clean_text, is_arabert=False)"
   ]
  },
  {
   "cell_type": "code",
   "execution_count": 24,
   "metadata": {},
   "outputs": [
    {
     "data": {
      "application/vnd.jupyter.widget-view+json": {
       "model_id": "5c685ce6986c4e41831d3f4485f41924",
       "version_major": 2,
       "version_minor": 0
      },
      "text/plain": [
       "  0%|          | 0/10000 [00:00<?, ?it/s]"
      ]
     },
     "metadata": {},
     "output_type": "display_data"
    }
   ],
   "source": [
    "data['processed_text_arabert'] = data.text.progress_apply(clean_text, is_arabert=True)"
   ]
  },
  {
   "cell_type": "code",
   "execution_count": 25,
   "metadata": {},
   "outputs": [
    {
     "data": {
      "text/html": [
       "<pre style=\"white-space:pre;overflow-x:auto;line-height:normal;font-family:Menlo,'DejaVu Sans Mono',consolas,'Courier New',monospace\">text:\n",
       "مبديع : نسبة المشاركة في الإضراب الوطني الأخير  كانت في حدود <span style=\"color: #008080; text-decoration-color: #008080; font-weight: bold\">22</span> في المائة\n",
       "\n",
       " \n",
       "قال السيد محمد مبديع الوزير المنتدب لدى رئيس الحكومة المكلف بالوظيفة العمومية وتحديث الإدارة، اليوم الخميس، إن \n",
       "الإضراب الوطني الاخير بالإدارات العمومية والجماعات الترابية <span style=\"color: #008000; text-decoration-color: #008000\">\"مر في ظروف مسؤولة وجد عادية\"</span>، مضيفا أن نسبة المشاركة \n",
       "كانت في حدود <span style=\"color: #008080; text-decoration-color: #008080; font-weight: bold\">22</span> في المائة.وجاء في بلاغ تلاه السيد مصطفى الخلفي وزير الاتصال الناطق الرسمي باسم الحكومة خلال ندوة \n",
       "صحافية عقب انعقاد مجلس الحكومة أن السيد مبديع أكد في عرض حول الإضراب الوطني بالإدارات العمومية والجماعات الترابية \n",
       "ليوم الثلاثاء الماضي على <span style=\"color: #008000; text-decoration-color: #008000\">\"أن هذا الإضراب مر في ظروف مسؤولة وجد عادية، دون أن تسجل أي تجاوزات أو اختلالات في السير </span>\n",
       "<span style=\"color: #008000; text-decoration-color: #008000\">العادي للمرافق العمومية\"</span> . وأبرز السيد مبديع في هذا العرض أن الحكومة عملت على عدم الدخول في جدل الأرقام وعدم \n",
       "التعليق على الأرقام التي قدمت من طرف الهيئات النقابية التي دعت الى الإضراب.\n",
       "</pre>\n"
      ],
      "text/plain": [
       "text:\n",
       "مبديع : نسبة المشاركة في الإضراب الوطني الأخير  كانت في حدود \u001b[1;36m22\u001b[0m في المائة\n",
       "\n",
       " \n",
       "قال السيد محمد مبديع الوزير المنتدب لدى رئيس الحكومة المكلف بالوظيفة العمومية وتحديث الإدارة، اليوم الخميس، إن \n",
       "الإضراب الوطني الاخير بالإدارات العمومية والجماعات الترابية \u001b[32m\"مر في ظروف مسؤولة وجد عادية\"\u001b[0m، مضيفا أن نسبة المشاركة \n",
       "كانت في حدود \u001b[1;36m22\u001b[0m في المائة.وجاء في بلاغ تلاه السيد مصطفى الخلفي وزير الاتصال الناطق الرسمي باسم الحكومة خلال ندوة \n",
       "صحافية عقب انعقاد مجلس الحكومة أن السيد مبديع أكد في عرض حول الإضراب الوطني بالإدارات العمومية والجماعات الترابية \n",
       "ليوم الثلاثاء الماضي على \u001b[32m\"أن هذا الإضراب مر في ظروف مسؤولة وجد عادية، دون أن تسجل أي تجاوزات أو اختلالات في السير \u001b[0m\n",
       "\u001b[32mالعادي للمرافق العمومية\"\u001b[0m . وأبرز السيد مبديع في هذا العرض أن الحكومة عملت على عدم الدخول في جدل الأرقام وعدم \n",
       "التعليق على الأرقام التي قدمت من طرف الهيئات النقابية التي دعت الى الإضراب.\n"
      ]
     },
     "metadata": {},
     "output_type": "display_data"
    },
    {
     "data": {
      "text/html": [
       "<pre style=\"white-space:pre;overflow-x:auto;line-height:normal;font-family:Menlo,'DejaVu Sans Mono',consolas,'Courier New',monospace\">label:\n",
       "Finance\n",
       "</pre>\n"
      ],
      "text/plain": [
       "label:\n",
       "Finance\n"
      ]
     },
     "metadata": {},
     "output_type": "display_data"
    },
    {
     "data": {
      "text/html": [
       "<pre style=\"white-space:pre;overflow-x:auto;line-height:normal;font-family:Menlo,'DejaVu Sans Mono',consolas,'Courier New',monospace\">processed_text:\n",
       "مبديع: نسبة المشاركة في الإضراب الوطني الأخير كانت في حدود <span style=\"color: #008080; text-decoration-color: #008080; font-weight: bold\">22</span> في المائة قال السيد محمد مبديع الوزير المنتدب لدى \n",
       "رئيس الحكومة المكلف بالوظيفة العمومية وتحديث الإدارة، اليوم الخميس، إن الإضراب الوطني الأخير بالإدارات العمومية \n",
       "والجماعات الترابية <span style=\"color: #008000; text-decoration-color: #008000\">\"مر في ظروف مسؤولة وجد عادية\"</span>، مضيفا أن نسبة المشاركة كانت في حدود <span style=\"color: #008080; text-decoration-color: #008080; font-weight: bold\">22</span> في المائة. وجاء في بلاغ \n",
       "تلاه السيد مصطفى الخلفي وزير الاتصال الناطق الرسمي باسم الحكومة خلال ندوة صحافية عقب انعقاد مجلس الحكومة أن السيد \n",
       "مبديع أكد في عرض حول الإضراب الوطني بالإدارات العمومية والجماعات الترابية ليوم الثلاثاء الماضي على <span style=\"color: #008000; text-decoration-color: #008000\">\"أن هذا الإضراب </span>\n",
       "<span style=\"color: #008000; text-decoration-color: #008000\">مر في ظروف مسؤولة وجد عادية، دون أن تسجل أي تجاوزات أو اختلالات في السير العادي للمرافق العمومية\"</span>. وأبرز السيد \n",
       "مبديع في هذا العرض أن الحكومة عملت على عدم الدخول في جدل الأرقام وعدم التعليق على الأرقام التي قدمت من طرف الهيئات \n",
       "النقابية التي دعت الى الإضراب.\n",
       "</pre>\n"
      ],
      "text/plain": [
       "processed_text:\n",
       "مبديع: نسبة المشاركة في الإضراب الوطني الأخير كانت في حدود \u001b[1;36m22\u001b[0m في المائة قال السيد محمد مبديع الوزير المنتدب لدى \n",
       "رئيس الحكومة المكلف بالوظيفة العمومية وتحديث الإدارة، اليوم الخميس، إن الإضراب الوطني الأخير بالإدارات العمومية \n",
       "والجماعات الترابية \u001b[32m\"مر في ظروف مسؤولة وجد عادية\"\u001b[0m، مضيفا أن نسبة المشاركة كانت في حدود \u001b[1;36m22\u001b[0m في المائة. وجاء في بلاغ \n",
       "تلاه السيد مصطفى الخلفي وزير الاتصال الناطق الرسمي باسم الحكومة خلال ندوة صحافية عقب انعقاد مجلس الحكومة أن السيد \n",
       "مبديع أكد في عرض حول الإضراب الوطني بالإدارات العمومية والجماعات الترابية ليوم الثلاثاء الماضي على \u001b[32m\"أن هذا الإضراب \u001b[0m\n",
       "\u001b[32mمر في ظروف مسؤولة وجد عادية، دون أن تسجل أي تجاوزات أو اختلالات في السير العادي للمرافق العمومية\"\u001b[0m. وأبرز السيد \n",
       "مبديع في هذا العرض أن الحكومة عملت على عدم الدخول في جدل الأرقام وعدم التعليق على الأرقام التي قدمت من طرف الهيئات \n",
       "النقابية التي دعت الى الإضراب.\n"
      ]
     },
     "metadata": {},
     "output_type": "display_data"
    },
    {
     "data": {
      "text/html": [
       "<pre style=\"white-space:pre;overflow-x:auto;line-height:normal;font-family:Menlo,'DejaVu Sans Mono',consolas,'Courier New',monospace\">processed_text_arabert:\n",
       "مبديع : نسب +ة ال+ مشارك +ة في ال+ إضراب ال+ وطني ال+ أخير كان +ت في حدود <span style=\"color: #008080; text-decoration-color: #008080; font-weight: bold\">22</span> في ال+ مائ +ة قال ال+ سيد محمد مبديع \n",
       "ال+ وزير ال+ منتدب لدى رئيس ال+ حكوم +ة ال+ مكلف ب+ ال+ وظيف +ة ال+ عمومي +ة و+ تحديث ال+ إدار +ة ، ال+ يوم ال+ \n",
       "خميس ، إن ال+ إضراب ال+ وطني ال+ أخير ب+ ال+ إدار +ات ال+ عمومي +ة و+ ال+ جماع +ات ال+ ترابي +ة <span style=\"color: #008000; text-decoration-color: #008000\">\" مر في ظروف مسؤول </span>\n",
       "<span style=\"color: #008000; text-decoration-color: #008000\">+ة وجد عادي +ة \"</span> ، مضيف +ا أن نسب +ة ال+ مشارك +ة كان +ت في حدود <span style=\"color: #008080; text-decoration-color: #008080; font-weight: bold\">22</span> في ال+ مائ +ة . و+ جاء في بلاغ تلا +ه ال+ سيد \n",
       "مصطفى ال+ خلفي وزير ال+ اتصال ال+ ناطق ال+ رسمي باسم ال+ حكوم +ة خلال ندو +ة صحافي +ة عقب انعقاد مجلس ال+ حكوم +ة \n",
       "أن ال+ سيد مبديع أكد في عرض حول ال+ إضراب ال+ وطني ب+ ال+ إدار +ات ال+ عمومي +ة و+ ال+ جماع +ات ال+ ترابي +ة ل+ يوم\n",
       "ال+ ثلاثاء ال+ ماضي على <span style=\"color: #008000; text-decoration-color: #008000\">\" أن هذا ال+ إضراب مر في ظروف مسؤول +ة وجد عادي +ة ، دون أن تسجل أي تجاوز +ات أو اختلال +ات</span>\n",
       "<span style=\"color: #008000; text-decoration-color: #008000\">في ال+ سير ال+ عادي ل+ ال+ مرافق ال+ عمومي +ة \"</span> . و+ أبرز ال+ سيد مبديع في هذا ال+ عرض أن ال+ حكوم +ة عمل +ت على \n",
       "عدم ال+ دخول في جدل ال+ أرقام و+ عدم ال+ تعليق على ال+ أرقام التي قدم +ت من طرف ال+ هيئ +ات ال+ نقابي +ة التي دع +ت\n",
       "الى ال+ إضراب .\n",
       "</pre>\n"
      ],
      "text/plain": [
       "processed_text_arabert:\n",
       "مبديع : نسب +ة ال+ مشارك +ة في ال+ إضراب ال+ وطني ال+ أخير كان +ت في حدود \u001b[1;36m22\u001b[0m في ال+ مائ +ة قال ال+ سيد محمد مبديع \n",
       "ال+ وزير ال+ منتدب لدى رئيس ال+ حكوم +ة ال+ مكلف ب+ ال+ وظيف +ة ال+ عمومي +ة و+ تحديث ال+ إدار +ة ، ال+ يوم ال+ \n",
       "خميس ، إن ال+ إضراب ال+ وطني ال+ أخير ب+ ال+ إدار +ات ال+ عمومي +ة و+ ال+ جماع +ات ال+ ترابي +ة \u001b[32m\" مر في ظروف مسؤول \u001b[0m\n",
       "\u001b[32m+ة وجد عادي +ة \"\u001b[0m ، مضيف +ا أن نسب +ة ال+ مشارك +ة كان +ت في حدود \u001b[1;36m22\u001b[0m في ال+ مائ +ة . و+ جاء في بلاغ تلا +ه ال+ سيد \n",
       "مصطفى ال+ خلفي وزير ال+ اتصال ال+ ناطق ال+ رسمي باسم ال+ حكوم +ة خلال ندو +ة صحافي +ة عقب انعقاد مجلس ال+ حكوم +ة \n",
       "أن ال+ سيد مبديع أكد في عرض حول ال+ إضراب ال+ وطني ب+ ال+ إدار +ات ال+ عمومي +ة و+ ال+ جماع +ات ال+ ترابي +ة ل+ يوم\n",
       "ال+ ثلاثاء ال+ ماضي على \u001b[32m\" أن هذا ال+ إضراب مر في ظروف مسؤول +ة وجد عادي +ة ، دون أن تسجل أي تجاوز +ات أو اختلال +ات\u001b[0m\n",
       "\u001b[32mفي ال+ سير ال+ عادي ل+ ال+ مرافق ال+ عمومي +ة \"\u001b[0m . و+ أبرز ال+ سيد مبديع في هذا ال+ عرض أن ال+ حكوم +ة عمل +ت على \n",
       "عدم ال+ دخول في جدل ال+ أرقام و+ عدم ال+ تعليق على ال+ أرقام التي قدم +ت من طرف ال+ هيئ +ات ال+ نقابي +ة التي دع +ت\n",
       "الى ال+ إضراب .\n"
      ]
     },
     "metadata": {},
     "output_type": "display_data"
    }
   ],
   "source": [
    "for k, v in data.loc[i].to_dict().items():\n",
    "    print(f'{k}:\\n{v}')"
   ]
  },
  {
   "cell_type": "code",
   "execution_count": 26,
   "metadata": {},
   "outputs": [
    {
     "name": "stdout",
     "output_type": "stream",
     "text": [
      "<class 'pandas.core.frame.DataFrame'>\n",
      "RangeIndex: 10000 entries, 0 to 9999\n",
      "Data columns (total 4 columns):\n",
      " #   Column                  Non-Null Count  Dtype \n",
      "---  ------                  --------------  ----- \n",
      " 0   text                    10000 non-null  object\n",
      " 1   label                   10000 non-null  object\n",
      " 2   processed_text          10000 non-null  object\n",
      " 3   processed_text_arabert  10000 non-null  object\n",
      "dtypes: object(4)\n",
      "memory usage: 312.6+ KB\n"
     ]
    }
   ],
   "source": [
    "data.info()"
   ]
  },
  {
   "cell_type": "code",
   "execution_count": 27,
   "metadata": {},
   "outputs": [],
   "source": [
    "train, valid = train_test_split(\n",
    "    data, test_size=0.2, stratify=data.label.to_list(), random_state=seed)\n",
    "valid, test = train_test_split(\n",
    "    valid, test_size=0.5, stratify=valid.label.to_list(), random_state=seed)"
   ]
  },
  {
   "cell_type": "code",
   "execution_count": 28,
   "metadata": {},
   "outputs": [
    {
     "name": "stdout",
     "output_type": "stream",
     "text": [
      "<class 'pandas.core.frame.DataFrame'>\n",
      "Index: 8000 entries, 3745 to 4805\n",
      "Data columns (total 4 columns):\n",
      " #   Column                  Non-Null Count  Dtype \n",
      "---  ------                  --------------  ----- \n",
      " 0   text                    8000 non-null   object\n",
      " 1   label                   8000 non-null   object\n",
      " 2   processed_text          8000 non-null   object\n",
      " 3   processed_text_arabert  8000 non-null   object\n",
      "dtypes: object(4)\n",
      "memory usage: 312.5+ KB\n"
     ]
    }
   ],
   "source": [
    "train.info()"
   ]
  },
  {
   "cell_type": "code",
   "execution_count": 29,
   "metadata": {},
   "outputs": [
    {
     "name": "stdout",
     "output_type": "stream",
     "text": [
      "<class 'pandas.core.frame.DataFrame'>\n",
      "Index: 1000 entries, 372 to 4472\n",
      "Data columns (total 4 columns):\n",
      " #   Column                  Non-Null Count  Dtype \n",
      "---  ------                  --------------  ----- \n",
      " 0   text                    1000 non-null   object\n",
      " 1   label                   1000 non-null   object\n",
      " 2   processed_text          1000 non-null   object\n",
      " 3   processed_text_arabert  1000 non-null   object\n",
      "dtypes: object(4)\n",
      "memory usage: 39.1+ KB\n"
     ]
    }
   ],
   "source": [
    "valid.info()"
   ]
  },
  {
   "cell_type": "code",
   "execution_count": 30,
   "metadata": {},
   "outputs": [
    {
     "name": "stdout",
     "output_type": "stream",
     "text": [
      "<class 'pandas.core.frame.DataFrame'>\n",
      "Index: 1000 entries, 3050 to 8458\n",
      "Data columns (total 4 columns):\n",
      " #   Column                  Non-Null Count  Dtype \n",
      "---  ------                  --------------  ----- \n",
      " 0   text                    1000 non-null   object\n",
      " 1   label                   1000 non-null   object\n",
      " 2   processed_text          1000 non-null   object\n",
      " 3   processed_text_arabert  1000 non-null   object\n",
      "dtypes: object(4)\n",
      "memory usage: 39.1+ KB\n"
     ]
    }
   ],
   "source": [
    "test.info()"
   ]
  },
  {
   "cell_type": "code",
   "execution_count": 31,
   "metadata": {},
   "outputs": [
    {
     "data": {
      "text/html": [
       "<pre style=\"white-space:pre;overflow-x:auto;line-height:normal;font-family:Menlo,'DejaVu Sans Mono',consolas,'Courier New',monospace\"><span style=\"font-weight: bold\">{</span>\n",
       "    <span style=\"color: #008000; text-decoration-color: #008000\">'Finance'</span>: <span style=\"color: #008080; text-decoration-color: #008080; font-weight: bold\">0.2775</span>,\n",
       "    <span style=\"color: #008000; text-decoration-color: #008000\">'Sports'</span>: <span style=\"color: #008080; text-decoration-color: #008080; font-weight: bold\">0.208375</span>,\n",
       "    <span style=\"color: #008000; text-decoration-color: #008000\">'Politics'</span>: <span style=\"color: #008080; text-decoration-color: #008080; font-weight: bold\">0.144375</span>,\n",
       "    <span style=\"color: #008000; text-decoration-color: #008000\">'Medical'</span>: <span style=\"color: #008080; text-decoration-color: #008080; font-weight: bold\">0.137125</span>,\n",
       "    <span style=\"color: #008000; text-decoration-color: #008000\">'Tech'</span>: <span style=\"color: #008080; text-decoration-color: #008080; font-weight: bold\">0.131875</span>,\n",
       "    <span style=\"color: #008000; text-decoration-color: #008000\">'Religion'</span>: <span style=\"color: #008080; text-decoration-color: #008080; font-weight: bold\">0.053125</span>,\n",
       "    <span style=\"color: #008000; text-decoration-color: #008000\">'Culture'</span>: <span style=\"color: #008080; text-decoration-color: #008080; font-weight: bold\">0.047625</span>\n",
       "<span style=\"font-weight: bold\">}</span>\n",
       "</pre>\n"
      ],
      "text/plain": [
       "\u001b[1m{\u001b[0m\n",
       "    \u001b[32m'Finance'\u001b[0m: \u001b[1;36m0.2775\u001b[0m,\n",
       "    \u001b[32m'Sports'\u001b[0m: \u001b[1;36m0.208375\u001b[0m,\n",
       "    \u001b[32m'Politics'\u001b[0m: \u001b[1;36m0.144375\u001b[0m,\n",
       "    \u001b[32m'Medical'\u001b[0m: \u001b[1;36m0.137125\u001b[0m,\n",
       "    \u001b[32m'Tech'\u001b[0m: \u001b[1;36m0.131875\u001b[0m,\n",
       "    \u001b[32m'Religion'\u001b[0m: \u001b[1;36m0.053125\u001b[0m,\n",
       "    \u001b[32m'Culture'\u001b[0m: \u001b[1;36m0.047625\u001b[0m\n",
       "\u001b[1m}\u001b[0m\n"
      ]
     },
     "metadata": {},
     "output_type": "display_data"
    }
   ],
   "source": [
    "print(train.label.value_counts(normalize=True).to_dict())"
   ]
  },
  {
   "cell_type": "code",
   "execution_count": 33,
   "metadata": {},
   "outputs": [],
   "source": [
    "data_artifact = wandb.Artifact(\n",
    "    name='Topic-Classification-Dataset', type='dataset')\n",
    "\n",
    "data_dict = {'train': train, 'valid': valid, 'test': test}\n",
    "\n",
    "for n, d in data_dict.items():\n",
    "    processed_data_path.mkdir(exist_ok=True)\n",
    "    split_path = processed_data_path.joinpath(f'{n}.csv')\n",
    "    config['data'][n] = {\n",
    "        'size': len(d),\n",
    "        'local_path': split_path,\n",
    "        'label_distribution': d.label.value_counts(normalize=True).to_dict(),\n",
    "    }\n",
    "    d.to_csv(split_path, index=False)\n",
    "    data_artifact.add_file(local_path=split_path, name=n)"
   ]
  },
  {
   "cell_type": "code",
   "execution_count": 34,
   "metadata": {},
   "outputs": [
    {
     "data": {
      "text/html": [
       "<pre style=\"white-space:pre;overflow-x:auto;line-height:normal;font-family:Menlo,'DejaVu Sans Mono',consolas,'Courier New',monospace\"><span style=\"color: #800080; text-decoration-color: #800080; font-weight: bold\">defaultdict</span><span style=\"font-weight: bold\">(&lt;</span><span style=\"color: #ff00ff; text-decoration-color: #ff00ff; font-weight: bold\">class</span><span style=\"color: #000000; text-decoration-color: #000000\"> </span><span style=\"color: #008000; text-decoration-color: #008000\">'dict'</span><span style=\"font-weight: bold\">&gt;</span>, <span style=\"font-weight: bold\">{</span>\n",
       "    <span style=\"color: #008000; text-decoration-color: #008000\">'data'</span>: <span style=\"font-weight: bold\">{</span>\n",
       "        <span style=\"color: #008000; text-decoration-color: #008000\">'train'</span>: <span style=\"font-weight: bold\">{</span>\n",
       "            <span style=\"color: #008000; text-decoration-color: #008000\">'size'</span>: <span style=\"color: #008080; text-decoration-color: #008080; font-weight: bold\">8000</span>,\n",
       "            <span style=\"color: #008000; text-decoration-color: #008000\">'local_path'</span>: <span style=\"color: #800080; text-decoration-color: #800080; font-weight: bold\">PosixPath</span><span style=\"font-weight: bold\">(</span><span style=\"color: #008000; text-decoration-color: #008000\">'../data/processed_data/sanad/train.csv'</span><span style=\"font-weight: bold\">)</span>,\n",
       "            <span style=\"color: #008000; text-decoration-color: #008000\">'label_distribution'</span>: <span style=\"font-weight: bold\">{</span>\n",
       "                <span style=\"color: #008000; text-decoration-color: #008000\">'Finance'</span>: <span style=\"color: #008080; text-decoration-color: #008080; font-weight: bold\">0.2775</span>,\n",
       "                <span style=\"color: #008000; text-decoration-color: #008000\">'Sports'</span>: <span style=\"color: #008080; text-decoration-color: #008080; font-weight: bold\">0.208375</span>,\n",
       "                <span style=\"color: #008000; text-decoration-color: #008000\">'Politics'</span>: <span style=\"color: #008080; text-decoration-color: #008080; font-weight: bold\">0.144375</span>,\n",
       "                <span style=\"color: #008000; text-decoration-color: #008000\">'Medical'</span>: <span style=\"color: #008080; text-decoration-color: #008080; font-weight: bold\">0.137125</span>,\n",
       "                <span style=\"color: #008000; text-decoration-color: #008000\">'Tech'</span>: <span style=\"color: #008080; text-decoration-color: #008080; font-weight: bold\">0.131875</span>,\n",
       "                <span style=\"color: #008000; text-decoration-color: #008000\">'Religion'</span>: <span style=\"color: #008080; text-decoration-color: #008080; font-weight: bold\">0.053125</span>,\n",
       "                <span style=\"color: #008000; text-decoration-color: #008000\">'Culture'</span>: <span style=\"color: #008080; text-decoration-color: #008080; font-weight: bold\">0.047625</span>\n",
       "            <span style=\"font-weight: bold\">}</span>\n",
       "        <span style=\"font-weight: bold\">}</span>,\n",
       "        <span style=\"color: #008000; text-decoration-color: #008000\">'valid'</span>: <span style=\"font-weight: bold\">{</span>\n",
       "            <span style=\"color: #008000; text-decoration-color: #008000\">'size'</span>: <span style=\"color: #008080; text-decoration-color: #008080; font-weight: bold\">1000</span>,\n",
       "            <span style=\"color: #008000; text-decoration-color: #008000\">'local_path'</span>: <span style=\"color: #800080; text-decoration-color: #800080; font-weight: bold\">PosixPath</span><span style=\"font-weight: bold\">(</span><span style=\"color: #008000; text-decoration-color: #008000\">'../data/processed_data/sanad/valid.csv'</span><span style=\"font-weight: bold\">)</span>,\n",
       "            <span style=\"color: #008000; text-decoration-color: #008000\">'label_distribution'</span>: <span style=\"font-weight: bold\">{</span>\n",
       "                <span style=\"color: #008000; text-decoration-color: #008000\">'Finance'</span>: <span style=\"color: #008080; text-decoration-color: #008080; font-weight: bold\">0.278</span>,\n",
       "                <span style=\"color: #008000; text-decoration-color: #008000\">'Sports'</span>: <span style=\"color: #008080; text-decoration-color: #008080; font-weight: bold\">0.209</span>,\n",
       "                <span style=\"color: #008000; text-decoration-color: #008000\">'Politics'</span>: <span style=\"color: #008080; text-decoration-color: #008080; font-weight: bold\">0.144</span>,\n",
       "                <span style=\"color: #008000; text-decoration-color: #008000\">'Medical'</span>: <span style=\"color: #008080; text-decoration-color: #008080; font-weight: bold\">0.137</span>,\n",
       "                <span style=\"color: #008000; text-decoration-color: #008000\">'Tech'</span>: <span style=\"color: #008080; text-decoration-color: #008080; font-weight: bold\">0.132</span>,\n",
       "                <span style=\"color: #008000; text-decoration-color: #008000\">'Religion'</span>: <span style=\"color: #008080; text-decoration-color: #008080; font-weight: bold\">0.053</span>,\n",
       "                <span style=\"color: #008000; text-decoration-color: #008000\">'Culture'</span>: <span style=\"color: #008080; text-decoration-color: #008080; font-weight: bold\">0.047</span>\n",
       "            <span style=\"font-weight: bold\">}</span>\n",
       "        <span style=\"font-weight: bold\">}</span>,\n",
       "        <span style=\"color: #008000; text-decoration-color: #008000\">'test'</span>: <span style=\"font-weight: bold\">{</span>\n",
       "            <span style=\"color: #008000; text-decoration-color: #008000\">'size'</span>: <span style=\"color: #008080; text-decoration-color: #008080; font-weight: bold\">1000</span>,\n",
       "            <span style=\"color: #008000; text-decoration-color: #008000\">'local_path'</span>: <span style=\"color: #800080; text-decoration-color: #800080; font-weight: bold\">PosixPath</span><span style=\"font-weight: bold\">(</span><span style=\"color: #008000; text-decoration-color: #008000\">'../data/processed_data/sanad/test.csv'</span><span style=\"font-weight: bold\">)</span>,\n",
       "            <span style=\"color: #008000; text-decoration-color: #008000\">'label_distribution'</span>: <span style=\"font-weight: bold\">{</span>\n",
       "                <span style=\"color: #008000; text-decoration-color: #008000\">'Finance'</span>: <span style=\"color: #008080; text-decoration-color: #008080; font-weight: bold\">0.277</span>,\n",
       "                <span style=\"color: #008000; text-decoration-color: #008000\">'Sports'</span>: <span style=\"color: #008080; text-decoration-color: #008080; font-weight: bold\">0.208</span>,\n",
       "                <span style=\"color: #008000; text-decoration-color: #008000\">'Politics'</span>: <span style=\"color: #008080; text-decoration-color: #008080; font-weight: bold\">0.145</span>,\n",
       "                <span style=\"color: #008000; text-decoration-color: #008000\">'Medical'</span>: <span style=\"color: #008080; text-decoration-color: #008080; font-weight: bold\">0.137</span>,\n",
       "                <span style=\"color: #008000; text-decoration-color: #008000\">'Tech'</span>: <span style=\"color: #008080; text-decoration-color: #008080; font-weight: bold\">0.132</span>,\n",
       "                <span style=\"color: #008000; text-decoration-color: #008000\">'Religion'</span>: <span style=\"color: #008080; text-decoration-color: #008080; font-weight: bold\">0.053</span>,\n",
       "                <span style=\"color: #008000; text-decoration-color: #008000\">'Culture'</span>: <span style=\"color: #008080; text-decoration-color: #008080; font-weight: bold\">0.048</span>\n",
       "            <span style=\"font-weight: bold\">}</span>\n",
       "        <span style=\"font-weight: bold\">}</span>\n",
       "    <span style=\"font-weight: bold\">}</span>\n",
       "<span style=\"font-weight: bold\">})</span>\n",
       "</pre>\n"
      ],
      "text/plain": [
       "\u001b[1;35mdefaultdict\u001b[0m\u001b[1m(\u001b[0m\u001b[1m<\u001b[0m\u001b[1;95mclass\u001b[0m\u001b[39m \u001b[0m\u001b[32m'dict'\u001b[0m\u001b[1m>\u001b[0m, \u001b[1m{\u001b[0m\n",
       "    \u001b[32m'data'\u001b[0m: \u001b[1m{\u001b[0m\n",
       "        \u001b[32m'train'\u001b[0m: \u001b[1m{\u001b[0m\n",
       "            \u001b[32m'size'\u001b[0m: \u001b[1;36m8000\u001b[0m,\n",
       "            \u001b[32m'local_path'\u001b[0m: \u001b[1;35mPosixPath\u001b[0m\u001b[1m(\u001b[0m\u001b[32m'../data/processed_data/sanad/train.csv'\u001b[0m\u001b[1m)\u001b[0m,\n",
       "            \u001b[32m'label_distribution'\u001b[0m: \u001b[1m{\u001b[0m\n",
       "                \u001b[32m'Finance'\u001b[0m: \u001b[1;36m0.2775\u001b[0m,\n",
       "                \u001b[32m'Sports'\u001b[0m: \u001b[1;36m0.208375\u001b[0m,\n",
       "                \u001b[32m'Politics'\u001b[0m: \u001b[1;36m0.144375\u001b[0m,\n",
       "                \u001b[32m'Medical'\u001b[0m: \u001b[1;36m0.137125\u001b[0m,\n",
       "                \u001b[32m'Tech'\u001b[0m: \u001b[1;36m0.131875\u001b[0m,\n",
       "                \u001b[32m'Religion'\u001b[0m: \u001b[1;36m0.053125\u001b[0m,\n",
       "                \u001b[32m'Culture'\u001b[0m: \u001b[1;36m0.047625\u001b[0m\n",
       "            \u001b[1m}\u001b[0m\n",
       "        \u001b[1m}\u001b[0m,\n",
       "        \u001b[32m'valid'\u001b[0m: \u001b[1m{\u001b[0m\n",
       "            \u001b[32m'size'\u001b[0m: \u001b[1;36m1000\u001b[0m,\n",
       "            \u001b[32m'local_path'\u001b[0m: \u001b[1;35mPosixPath\u001b[0m\u001b[1m(\u001b[0m\u001b[32m'../data/processed_data/sanad/valid.csv'\u001b[0m\u001b[1m)\u001b[0m,\n",
       "            \u001b[32m'label_distribution'\u001b[0m: \u001b[1m{\u001b[0m\n",
       "                \u001b[32m'Finance'\u001b[0m: \u001b[1;36m0.278\u001b[0m,\n",
       "                \u001b[32m'Sports'\u001b[0m: \u001b[1;36m0.209\u001b[0m,\n",
       "                \u001b[32m'Politics'\u001b[0m: \u001b[1;36m0.144\u001b[0m,\n",
       "                \u001b[32m'Medical'\u001b[0m: \u001b[1;36m0.137\u001b[0m,\n",
       "                \u001b[32m'Tech'\u001b[0m: \u001b[1;36m0.132\u001b[0m,\n",
       "                \u001b[32m'Religion'\u001b[0m: \u001b[1;36m0.053\u001b[0m,\n",
       "                \u001b[32m'Culture'\u001b[0m: \u001b[1;36m0.047\u001b[0m\n",
       "            \u001b[1m}\u001b[0m\n",
       "        \u001b[1m}\u001b[0m,\n",
       "        \u001b[32m'test'\u001b[0m: \u001b[1m{\u001b[0m\n",
       "            \u001b[32m'size'\u001b[0m: \u001b[1;36m1000\u001b[0m,\n",
       "            \u001b[32m'local_path'\u001b[0m: \u001b[1;35mPosixPath\u001b[0m\u001b[1m(\u001b[0m\u001b[32m'../data/processed_data/sanad/test.csv'\u001b[0m\u001b[1m)\u001b[0m,\n",
       "            \u001b[32m'label_distribution'\u001b[0m: \u001b[1m{\u001b[0m\n",
       "                \u001b[32m'Finance'\u001b[0m: \u001b[1;36m0.277\u001b[0m,\n",
       "                \u001b[32m'Sports'\u001b[0m: \u001b[1;36m0.208\u001b[0m,\n",
       "                \u001b[32m'Politics'\u001b[0m: \u001b[1;36m0.145\u001b[0m,\n",
       "                \u001b[32m'Medical'\u001b[0m: \u001b[1;36m0.137\u001b[0m,\n",
       "                \u001b[32m'Tech'\u001b[0m: \u001b[1;36m0.132\u001b[0m,\n",
       "                \u001b[32m'Religion'\u001b[0m: \u001b[1;36m0.053\u001b[0m,\n",
       "                \u001b[32m'Culture'\u001b[0m: \u001b[1;36m0.048\u001b[0m\n",
       "            \u001b[1m}\u001b[0m\n",
       "        \u001b[1m}\u001b[0m\n",
       "    \u001b[1m}\u001b[0m\n",
       "\u001b[1m}\u001b[0m\u001b[1m)\u001b[0m\n"
      ]
     },
     "metadata": {},
     "output_type": "display_data"
    }
   ],
   "source": [
    "print(config)"
   ]
  },
  {
   "cell_type": "code",
   "execution_count": 35,
   "metadata": {},
   "outputs": [
    {
     "data": {
      "application/vnd.jupyter.widget-view+json": {
       "model_id": "0318ecf941424938a5c0eeaf68f13c7f",
       "version_major": 2,
       "version_minor": 0
      },
      "text/plain": [
       "VBox(children=(Label(value='Waiting for wandb.init()...\\r'), FloatProgress(value=0.01112300044444257, max=1.0)…"
      ]
     },
     "metadata": {},
     "output_type": "display_data"
    },
    {
     "data": {
      "text/html": [
       "Tracking run with wandb version 0.17.8"
      ],
      "text/plain": [
       "<IPython.core.display.HTML object>"
      ]
     },
     "metadata": {},
     "output_type": "display_data"
    },
    {
     "data": {
      "text/html": [
       "Run data is saved locally in <code>/mnt/d/Programming Projects/Arabic Disambiguation Study/notebooks/wandb/run-20240914_023410-q05wtbmv</code>"
      ],
      "text/plain": [
       "<IPython.core.display.HTML object>"
      ]
     },
     "metadata": {},
     "output_type": "display_data"
    },
    {
     "data": {
      "text/html": [
       "Syncing run <strong><a href='https://wandb.ai/e_hossam96/ARABIC_DISAMBIGUATION_STUDY/runs/q05wtbmv' target=\"_blank\">Data_Preprocessing_SANAD</a></strong> to <a href='https://wandb.ai/e_hossam96/ARABIC_DISAMBIGUATION_STUDY' target=\"_blank\">Weights & Biases</a> (<a href='https://wandb.me/run' target=\"_blank\">docs</a>)<br/>"
      ],
      "text/plain": [
       "<IPython.core.display.HTML object>"
      ]
     },
     "metadata": {},
     "output_type": "display_data"
    },
    {
     "data": {
      "text/html": [
       " View project at <a href='https://wandb.ai/e_hossam96/ARABIC_DISAMBIGUATION_STUDY' target=\"_blank\">https://wandb.ai/e_hossam96/ARABIC_DISAMBIGUATION_STUDY</a>"
      ],
      "text/plain": [
       "<IPython.core.display.HTML object>"
      ]
     },
     "metadata": {},
     "output_type": "display_data"
    },
    {
     "data": {
      "text/html": [
       " View run at <a href='https://wandb.ai/e_hossam96/ARABIC_DISAMBIGUATION_STUDY/runs/q05wtbmv' target=\"_blank\">https://wandb.ai/e_hossam96/ARABIC_DISAMBIGUATION_STUDY/runs/q05wtbmv</a>"
      ],
      "text/plain": [
       "<IPython.core.display.HTML object>"
      ]
     },
     "metadata": {},
     "output_type": "display_data"
    }
   ],
   "source": [
    "run = wandb.init(project=PROJECT_NAME, job_type=JOB_TYPE,\n",
    "                 name=RUN_NAME, notes=NOTES, tags=TAGS, config=config)"
   ]
  },
  {
   "cell_type": "code",
   "execution_count": 36,
   "metadata": {},
   "outputs": [],
   "source": [
    "_ = run.log_artifact(data_artifact)"
   ]
  },
  {
   "cell_type": "code",
   "execution_count": 37,
   "metadata": {},
   "outputs": [
    {
     "data": {
      "application/vnd.jupyter.widget-view+json": {
       "model_id": "",
       "version_major": 2,
       "version_minor": 0
      },
      "text/plain": [
       "VBox(children=(Label(value='83.344 MB of 83.364 MB uploaded (0.004 MB deduped)\\r'), FloatProgress(value=0.9997…"
      ]
     },
     "metadata": {},
     "output_type": "display_data"
    },
    {
     "data": {
      "text/html": [
       "W&B sync reduced upload amount by 0.0%"
      ],
      "text/plain": [
       "<IPython.core.display.HTML object>"
      ]
     },
     "metadata": {},
     "output_type": "display_data"
    },
    {
     "data": {
      "text/html": [
       " View run <strong style=\"color:#cdcd00\">Data_Preprocessing_SANAD</strong> at: <a href='https://wandb.ai/e_hossam96/ARABIC_DISAMBIGUATION_STUDY/runs/q05wtbmv' target=\"_blank\">https://wandb.ai/e_hossam96/ARABIC_DISAMBIGUATION_STUDY/runs/q05wtbmv</a><br/> View project at: <a href='https://wandb.ai/e_hossam96/ARABIC_DISAMBIGUATION_STUDY' target=\"_blank\">https://wandb.ai/e_hossam96/ARABIC_DISAMBIGUATION_STUDY</a><br/>Synced 5 W&B file(s), 0 media file(s), 5 artifact file(s) and 0 other file(s)"
      ],
      "text/plain": [
       "<IPython.core.display.HTML object>"
      ]
     },
     "metadata": {},
     "output_type": "display_data"
    },
    {
     "data": {
      "text/html": [
       "Find logs at: <code>./wandb/run-20240914_023410-q05wtbmv/logs</code>"
      ],
      "text/plain": [
       "<IPython.core.display.HTML object>"
      ]
     },
     "metadata": {},
     "output_type": "display_data"
    },
    {
     "data": {
      "text/html": [
       "The new W&B backend becomes opt-out in version 0.18.0; try it out with `wandb.require(\"core\")`! See https://wandb.me/wandb-core for more information."
      ],
      "text/plain": [
       "<IPython.core.display.HTML object>"
      ]
     },
     "metadata": {},
     "output_type": "display_data"
    }
   ],
   "source": [
    "run.finish()"
   ]
  }
 ],
 "metadata": {
  "kernelspec": {
   "display_name": "Python 3 (ipykernel)",
   "language": "python",
   "name": "python3"
  },
  "language_info": {
   "codemirror_mode": {
    "name": "ipython",
    "version": 3
   },
   "file_extension": ".py",
   "mimetype": "text/x-python",
   "name": "python",
   "nbconvert_exporter": "python",
   "pygments_lexer": "ipython3",
   "version": "3.11.9"
  }
 },
 "nbformat": 4,
 "nbformat_minor": 4
}
