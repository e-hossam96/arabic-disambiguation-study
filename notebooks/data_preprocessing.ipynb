{
 "cells": [
  {
   "cell_type": "markdown",
   "metadata": {},
   "source": [
    "# Data Preprocessing\n",
    "\n",
    "In this notebook we will preprocess our reviews and remove unnecessary strings.\n"
   ]
  },
  {
   "cell_type": "code",
   "execution_count": 1,
   "metadata": {},
   "outputs": [],
   "source": [
    "import re\n",
    "import wandb\n",
    "import pandas as pd\n",
    "from typing import Optional\n",
    "from dotenv import load_dotenv\n",
    "from arabert.preprocess import ArabertPreprocessor\n",
    "from sklearn.model_selection import train_test_split\n",
    "\n",
    "from rich import print\n",
    "from pathlib import Path\n",
    "from tqdm.auto import tqdm\n",
    "from collections import defaultdict"
   ]
  },
  {
   "cell_type": "code",
   "execution_count": 2,
   "metadata": {},
   "outputs": [
    {
     "name": "stderr",
     "output_type": "stream",
     "text": [
      "\u001b[34m\u001b[1mwandb\u001b[0m: Currently logged in as: \u001b[33me_hossam96\u001b[0m. Use \u001b[1m`wandb login --relogin`\u001b[0m to force relogin\n"
     ]
    }
   ],
   "source": [
    "load_dotenv()\n",
    "wandb.login()\n",
    "tqdm.pandas()"
   ]
  },
  {
   "cell_type": "code",
   "execution_count": 3,
   "metadata": {},
   "outputs": [],
   "source": [
    "# wandb configs\n",
    "PROJECT_NAME = 'ARABIC_DISAMBIGUATION_STUDY'\n",
    "JOB_TYPE = 'DATA_PREPROCESSING'\n",
    "TAGS = ['ARABERT_PREPROCESSOR', 'FARASAPY', 'REGEX']\n",
    "NOTES = 'Preprocessing data for sentiment calssification with disambiguation'\n",
    "RUN_NAME = 'Data_Preprocessing'\n",
    "config = defaultdict(dict)"
   ]
  },
  {
   "cell_type": "code",
   "execution_count": 4,
   "metadata": {},
   "outputs": [],
   "source": [
    "seed = 42\n",
    "arabert_model = 'aubmindlab/bert-base-arabertv2'\n",
    "data_path = Path('../data/ArSen-20_publish.csv')\n",
    "processed_data_path = Path('../data/processed_data/')"
   ]
  },
  {
   "cell_type": "code",
   "execution_count": 5,
   "metadata": {},
   "outputs": [],
   "source": [
    "if data_path.suffix == '.csv':\n",
    "    data = pd.read_csv(data_path)"
   ]
  },
  {
   "cell_type": "code",
   "execution_count": 6,
   "metadata": {},
   "outputs": [
    {
     "name": "stdout",
     "output_type": "stream",
     "text": [
      "<class 'pandas.core.frame.DataFrame'>\n",
      "RangeIndex: 20000 entries, 0 to 19999\n",
      "Data columns (total 19 columns):\n",
      " #   Column           Non-Null Count  Dtype  \n",
      "---  ------           --------------  -----  \n",
      " 0   tweet id         20000 non-null  float64\n",
      " 1   label            20000 non-null  object \n",
      " 2   author id        20000 non-null  float64\n",
      " 3   created_at       20000 non-null  object \n",
      " 4   lang             20000 non-null  object \n",
      " 5   like_count       20000 non-null  int64  \n",
      " 6   quote_count      20000 non-null  int64  \n",
      " 7   reply_count      20000 non-null  int64  \n",
      " 8   retweet_count    20000 non-null  int64  \n",
      " 9   tweet            20000 non-null  object \n",
      " 10  user_verified    20000 non-null  bool   \n",
      " 11  followers_count  20000 non-null  int64  \n",
      " 12  following_count  20000 non-null  int64  \n",
      " 13  tweet_count      20000 non-null  int64  \n",
      " 14  listed_count     20000 non-null  int64  \n",
      " 15  name             20000 non-null  object \n",
      " 16  username         20000 non-null  object \n",
      " 17  user_created_at  20000 non-null  object \n",
      " 18  description      18186 non-null  object \n",
      "dtypes: bool(1), float64(2), int64(8), object(8)\n",
      "memory usage: 2.8+ MB\n"
     ]
    }
   ],
   "source": [
    "data.info()"
   ]
  },
  {
   "cell_type": "code",
   "execution_count": 7,
   "metadata": {},
   "outputs": [
    {
     "data": {
      "text/html": [
       "<div>\n",
       "<style scoped>\n",
       "    .dataframe tbody tr th:only-of-type {\n",
       "        vertical-align: middle;\n",
       "    }\n",
       "\n",
       "    .dataframe tbody tr th {\n",
       "        vertical-align: top;\n",
       "    }\n",
       "\n",
       "    .dataframe thead th {\n",
       "        text-align: right;\n",
       "    }\n",
       "</style>\n",
       "<table border=\"1\" class=\"dataframe\">\n",
       "  <thead>\n",
       "    <tr style=\"text-align: right;\">\n",
       "      <th></th>\n",
       "      <th>tweet id</th>\n",
       "      <th>label</th>\n",
       "      <th>author id</th>\n",
       "      <th>created_at</th>\n",
       "      <th>lang</th>\n",
       "      <th>like_count</th>\n",
       "      <th>quote_count</th>\n",
       "      <th>reply_count</th>\n",
       "      <th>retweet_count</th>\n",
       "      <th>tweet</th>\n",
       "      <th>user_verified</th>\n",
       "      <th>followers_count</th>\n",
       "      <th>following_count</th>\n",
       "      <th>tweet_count</th>\n",
       "      <th>listed_count</th>\n",
       "      <th>name</th>\n",
       "      <th>username</th>\n",
       "      <th>user_created_at</th>\n",
       "      <th>description</th>\n",
       "    </tr>\n",
       "  </thead>\n",
       "  <tbody>\n",
       "    <tr>\n",
       "      <th>0</th>\n",
       "      <td>1.437400e+18</td>\n",
       "      <td>neutral</td>\n",
       "      <td>1.430170e+18</td>\n",
       "      <td>2021-09-13 13:03:40+00:00</td>\n",
       "      <td>ar</td>\n",
       "      <td>0</td>\n",
       "      <td>0</td>\n",
       "      <td>0</td>\n",
       "      <td>1</td>\n",
       "      <td>أفكار تحليل وتواصل بلا حدود: هدية للجامية http...</td>\n",
       "      <td>False</td>\n",
       "      <td>1</td>\n",
       "      <td>0</td>\n",
       "      <td>1707</td>\n",
       "      <td>0</td>\n",
       "      <td>Majid Khatiri</td>\n",
       "      <td>MajidKhatiri1</td>\n",
       "      <td>2021-08-24T14:10:47.000Z</td>\n",
       "      <td>ولكن إذا حم القضاء على امرئ فليس له بر يقيه ول...</td>\n",
       "    </tr>\n",
       "    <tr>\n",
       "      <th>1</th>\n",
       "      <td>1.244610e+18</td>\n",
       "      <td>neutral</td>\n",
       "      <td>1.155760e+18</td>\n",
       "      <td>2020-03-30 12:46:36+00:00</td>\n",
       "      <td>ar</td>\n",
       "      <td>2</td>\n",
       "      <td>0</td>\n",
       "      <td>0</td>\n",
       "      <td>3</td>\n",
       "      <td>سبب تسمية كورونا:\\n   COVID-19\\n\"CO\"\\nأول حرفي...</td>\n",
       "      <td>False</td>\n",
       "      <td>60</td>\n",
       "      <td>118</td>\n",
       "      <td>460</td>\n",
       "      <td>0</td>\n",
       "      <td>صالح الوكاع Saleh Alwakkaa</td>\n",
       "      <td>saleh_alwakkaa</td>\n",
       "      <td>2019-07-29T08:49:30.000Z</td>\n",
       "      <td>أحارب الجوع و الجهل ما استطعت</td>\n",
       "    </tr>\n",
       "  </tbody>\n",
       "</table>\n",
       "</div>"
      ],
      "text/plain": [
       "       tweet id    label     author id                 created_at lang  \\\n",
       "0  1.437400e+18  neutral  1.430170e+18  2021-09-13 13:03:40+00:00   ar   \n",
       "1  1.244610e+18  neutral  1.155760e+18  2020-03-30 12:46:36+00:00   ar   \n",
       "\n",
       "   like_count  quote_count  reply_count  retweet_count  \\\n",
       "0           0            0            0              1   \n",
       "1           2            0            0              3   \n",
       "\n",
       "                                               tweet  user_verified  \\\n",
       "0  أفكار تحليل وتواصل بلا حدود: هدية للجامية http...          False   \n",
       "1  سبب تسمية كورونا:\\n   COVID-19\\n\"CO\"\\nأول حرفي...          False   \n",
       "\n",
       "   followers_count  following_count  tweet_count  listed_count  \\\n",
       "0                1                0         1707             0   \n",
       "1               60              118          460             0   \n",
       "\n",
       "                         name        username           user_created_at  \\\n",
       "0               Majid Khatiri   MajidKhatiri1  2021-08-24T14:10:47.000Z   \n",
       "1  صالح الوكاع Saleh Alwakkaa  saleh_alwakkaa  2019-07-29T08:49:30.000Z   \n",
       "\n",
       "                                         description  \n",
       "0  ولكن إذا حم القضاء على امرئ فليس له بر يقيه ول...  \n",
       "1                      أحارب الجوع و الجهل ما استطعت  "
      ]
     },
     "execution_count": 7,
     "metadata": {},
     "output_type": "execute_result"
    }
   ],
   "source": [
    "data.head(2)"
   ]
  },
  {
   "cell_type": "code",
   "execution_count": 8,
   "metadata": {},
   "outputs": [],
   "source": [
    "data = data[['tweet', 'label']]"
   ]
  },
  {
   "cell_type": "code",
   "execution_count": 9,
   "metadata": {},
   "outputs": [
    {
     "data": {
      "text/html": [
       "<pre style=\"white-space:pre;overflow-x:auto;line-height:normal;font-family:Menlo,'DejaVu Sans Mono',consolas,'Courier New',monospace\">عاجل | تعلن #وزارة_الصحة⁩ عن تأكيد إصابة <span style=\"color: #008080; text-decoration-color: #008080; font-weight: bold\">6</span>,<span style=\"color: #008080; text-decoration-color: #008080; font-weight: bold\">592</span> حالة جديدة، وتسجيل <span style=\"color: #008080; text-decoration-color: #008080; font-weight: bold\">4</span>,<span style=\"color: #008080; text-decoration-color: #008080; font-weight: bold\">886</span> حالة شفاء، و <span style=\"color: #008080; text-decoration-color: #008080; font-weight: bold\">2</span> حالة وفاة جديدة بفيروس كورونا\n",
       "المستجدّ⁩ COVID-<span style=\"color: #008080; text-decoration-color: #008080; font-weight: bold\">19</span> ، ليصبح إجمالي عدد الحالات <span style=\"color: #008080; text-decoration-color: #008080; font-weight: bold\">558</span>,<span style=\"color: #008080; text-decoration-color: #008080; font-weight: bold\">745</span> حالة\n",
       " #بنديرة <span style=\"color: #0000ff; text-decoration-color: #0000ff; text-decoration: underline\">https://t.co/TVTec1t6gb</span>\n",
       "</pre>\n"
      ],
      "text/plain": [
       "عاجل | تعلن #وزارة_الصحة⁩ عن تأكيد إصابة \u001b[1;36m6\u001b[0m,\u001b[1;36m592\u001b[0m حالة جديدة، وتسجيل \u001b[1;36m4\u001b[0m,\u001b[1;36m886\u001b[0m حالة شفاء، و \u001b[1;36m2\u001b[0m حالة وفاة جديدة بفيروس كورونا\n",
       "المستجدّ⁩ COVID-\u001b[1;36m19\u001b[0m ، ليصبح إجمالي عدد الحالات \u001b[1;36m558\u001b[0m,\u001b[1;36m745\u001b[0m حالة\n",
       " #بنديرة \u001b[4;94mhttps://t.co/TVTec1t6gb\u001b[0m\n"
      ]
     },
     "metadata": {},
     "output_type": "display_data"
    }
   ],
   "source": [
    "i = 100  # 14\n",
    "print(data.loc[i, 'tweet'])"
   ]
  },
  {
   "cell_type": "code",
   "execution_count": 10,
   "metadata": {},
   "outputs": [
    {
     "name": "stderr",
     "output_type": "stream",
     "text": [
      "[2024-09-13 03:32:01,641 - farasapy_logger - WARNING]: Be careful with large lines as they may break on interactive mode. You may switch to Standalone mode for such cases.\n"
     ]
    }
   ],
   "source": [
    "arabert_prep = ArabertPreprocessor(model_name=arabert_model)"
   ]
  },
  {
   "cell_type": "code",
   "execution_count": 11,
   "metadata": {},
   "outputs": [
    {
     "data": {
      "text/html": [
       "<pre style=\"white-space:pre;overflow-x:auto;line-height:normal;font-family:Menlo,'DejaVu Sans Mono',consolas,'Courier New',monospace\">عاجل | تعلن # وزار +ة _ ال+ صح +ة عن تأكيد إصاب +ة <span style=\"color: #008080; text-decoration-color: #008080; font-weight: bold\">6</span> , <span style=\"color: #008080; text-decoration-color: #008080; font-weight: bold\">592</span> حال +ة جديد +ة ، و+ تسجيل <span style=\"color: #008080; text-decoration-color: #008080; font-weight: bold\">4</span> , <span style=\"color: #008080; text-decoration-color: #008080; font-weight: bold\">886</span> حال +ة شفاء ، و <span style=\"color: #008080; text-decoration-color: #008080; font-weight: bold\">2</span> حال \n",
       "+ة وفا +ة جديد +ة ب+ فيروس كورونا ال+ مستجد COVID - <span style=\"color: #008080; text-decoration-color: #008080; font-weight: bold\">19</span> ، ل+ يصبح إجمالي عدد ال+ حال +ات <span style=\"color: #008080; text-decoration-color: #008080; font-weight: bold\">558</span> , <span style=\"color: #008080; text-decoration-color: #008080; font-weight: bold\">745</span> حال +ة # بندير +ة\n",
       "<span style=\"font-weight: bold\">[</span>رابط<span style=\"font-weight: bold\">]</span>\n",
       "</pre>\n"
      ],
      "text/plain": [
       "عاجل | تعلن # وزار +ة _ ال+ صح +ة عن تأكيد إصاب +ة \u001b[1;36m6\u001b[0m , \u001b[1;36m592\u001b[0m حال +ة جديد +ة ، و+ تسجيل \u001b[1;36m4\u001b[0m , \u001b[1;36m886\u001b[0m حال +ة شفاء ، و \u001b[1;36m2\u001b[0m حال \n",
       "+ة وفا +ة جديد +ة ب+ فيروس كورونا ال+ مستجد COVID - \u001b[1;36m19\u001b[0m ، ل+ يصبح إجمالي عدد ال+ حال +ات \u001b[1;36m558\u001b[0m , \u001b[1;36m745\u001b[0m حال +ة # بندير +ة\n",
       "\u001b[1m[\u001b[0mرابط\u001b[1m]\u001b[0m\n"
      ]
     },
     "metadata": {},
     "output_type": "display_data"
    }
   ],
   "source": [
    "print(arabert_prep.preprocess(data.loc[i, 'tweet']))"
   ]
  },
  {
   "cell_type": "code",
   "execution_count": 12,
   "metadata": {},
   "outputs": [],
   "source": [
    "def clean_text(tweet: str, is_arabert: Optional[bool] = False) -> str:\n",
    "    '''Preprocess and clean text using Farasapy and regex rules.'''\n",
    "    text = arabert_prep.preprocess(tweet)\n",
    "    if not is_arabert:\n",
    "        text = arabert_prep.unpreprocess(text)\n",
    "    # regex patterns\n",
    "    link = r'\\[رابط\\]'\n",
    "    user = r'\\[مستخدم\\]'\n",
    "    mail = r'\\[بريد\\]'\n",
    "    underscore = r'_'\n",
    "    hashtag = r'#'\n",
    "    space = r'\\s+'\n",
    "    patterns = [link, user, mail, underscore, hashtag, space]\n",
    "    for p in patterns:\n",
    "        text = re.sub(p, ' ', text)\n",
    "    return text"
   ]
  },
  {
   "cell_type": "code",
   "execution_count": 13,
   "metadata": {},
   "outputs": [
    {
     "data": {
      "text/html": [
       "<pre style=\"white-space:pre;overflow-x:auto;line-height:normal;font-family:Menlo,'DejaVu Sans Mono',consolas,'Courier New',monospace\">عاجل|تعلن وزارة الصحة عن تأكيد إصابة <span style=\"color: #008080; text-decoration-color: #008080; font-weight: bold\">6</span>,<span style=\"color: #008080; text-decoration-color: #008080; font-weight: bold\">592</span> حالة جديدة، وتسجيل <span style=\"color: #008080; text-decoration-color: #008080; font-weight: bold\">4</span>,<span style=\"color: #008080; text-decoration-color: #008080; font-weight: bold\">886</span> حالة شفاء، و <span style=\"color: #008080; text-decoration-color: #008080; font-weight: bold\">2</span> حالة وفاة جديدة بفيروس كورونا \n",
       "المستجد COVID-<span style=\"color: #008080; text-decoration-color: #008080; font-weight: bold\">19</span>، ليصبح إجمالي عدد الحالات <span style=\"color: #008080; text-decoration-color: #008080; font-weight: bold\">558</span>,<span style=\"color: #008080; text-decoration-color: #008080; font-weight: bold\">745</span> حالة بنديرة \n",
       "</pre>\n"
      ],
      "text/plain": [
       "عاجل|تعلن وزارة الصحة عن تأكيد إصابة \u001b[1;36m6\u001b[0m,\u001b[1;36m592\u001b[0m حالة جديدة، وتسجيل \u001b[1;36m4\u001b[0m,\u001b[1;36m886\u001b[0m حالة شفاء، و \u001b[1;36m2\u001b[0m حالة وفاة جديدة بفيروس كورونا \n",
       "المستجد COVID-\u001b[1;36m19\u001b[0m، ليصبح إجمالي عدد الحالات \u001b[1;36m558\u001b[0m,\u001b[1;36m745\u001b[0m حالة بنديرة \n"
      ]
     },
     "metadata": {},
     "output_type": "display_data"
    }
   ],
   "source": [
    "print(clean_text(data.loc[i, 'tweet']))"
   ]
  },
  {
   "cell_type": "code",
   "execution_count": 14,
   "metadata": {},
   "outputs": [
    {
     "data": {
      "application/vnd.jupyter.widget-view+json": {
       "model_id": "f780a8ddaf264759933574a71dac6317",
       "version_major": 2,
       "version_minor": 0
      },
      "text/plain": [
       "  0%|          | 0/20000 [00:00<?, ?it/s]"
      ]
     },
     "metadata": {},
     "output_type": "display_data"
    }
   ],
   "source": [
    "data['text'] = data.tweet.progress_apply(clean_text, is_arabert=False)"
   ]
  },
  {
   "cell_type": "code",
   "execution_count": 15,
   "metadata": {},
   "outputs": [
    {
     "data": {
      "application/vnd.jupyter.widget-view+json": {
       "model_id": "c02d9d98f959480d8d303ccf6ecd5d07",
       "version_major": 2,
       "version_minor": 0
      },
      "text/plain": [
       "  0%|          | 0/20000 [00:00<?, ?it/s]"
      ]
     },
     "metadata": {},
     "output_type": "display_data"
    }
   ],
   "source": [
    "data['text_arabert'] = data.tweet.progress_apply(clean_text, is_arabert=True)"
   ]
  },
  {
   "cell_type": "code",
   "execution_count": 16,
   "metadata": {},
   "outputs": [
    {
     "data": {
      "text/html": [
       "<pre style=\"white-space:pre;overflow-x:auto;line-height:normal;font-family:Menlo,'DejaVu Sans Mono',consolas,'Courier New',monospace\">tweet:\n",
       "عاجل | تعلن #وزارة_الصحة⁩ عن تأكيد إصابة <span style=\"color: #008080; text-decoration-color: #008080; font-weight: bold\">6</span>,<span style=\"color: #008080; text-decoration-color: #008080; font-weight: bold\">592</span> حالة جديدة، وتسجيل <span style=\"color: #008080; text-decoration-color: #008080; font-weight: bold\">4</span>,<span style=\"color: #008080; text-decoration-color: #008080; font-weight: bold\">886</span> حالة شفاء، و <span style=\"color: #008080; text-decoration-color: #008080; font-weight: bold\">2</span> حالة وفاة جديدة بفيروس كورونا\n",
       "المستجدّ⁩ COVID-<span style=\"color: #008080; text-decoration-color: #008080; font-weight: bold\">19</span> ، ليصبح إجمالي عدد الحالات <span style=\"color: #008080; text-decoration-color: #008080; font-weight: bold\">558</span>,<span style=\"color: #008080; text-decoration-color: #008080; font-weight: bold\">745</span> حالة\n",
       " #بنديرة <span style=\"color: #0000ff; text-decoration-color: #0000ff; text-decoration: underline\">https://t.co/TVTec1t6gb</span>\n",
       "</pre>\n"
      ],
      "text/plain": [
       "tweet:\n",
       "عاجل | تعلن #وزارة_الصحة⁩ عن تأكيد إصابة \u001b[1;36m6\u001b[0m,\u001b[1;36m592\u001b[0m حالة جديدة، وتسجيل \u001b[1;36m4\u001b[0m,\u001b[1;36m886\u001b[0m حالة شفاء، و \u001b[1;36m2\u001b[0m حالة وفاة جديدة بفيروس كورونا\n",
       "المستجدّ⁩ COVID-\u001b[1;36m19\u001b[0m ، ليصبح إجمالي عدد الحالات \u001b[1;36m558\u001b[0m,\u001b[1;36m745\u001b[0m حالة\n",
       " #بنديرة \u001b[4;94mhttps://t.co/TVTec1t6gb\u001b[0m\n"
      ]
     },
     "metadata": {},
     "output_type": "display_data"
    },
    {
     "data": {
      "text/html": [
       "<pre style=\"white-space:pre;overflow-x:auto;line-height:normal;font-family:Menlo,'DejaVu Sans Mono',consolas,'Courier New',monospace\">label:\n",
       "neutral\n",
       "</pre>\n"
      ],
      "text/plain": [
       "label:\n",
       "neutral\n"
      ]
     },
     "metadata": {},
     "output_type": "display_data"
    },
    {
     "data": {
      "text/html": [
       "<pre style=\"white-space:pre;overflow-x:auto;line-height:normal;font-family:Menlo,'DejaVu Sans Mono',consolas,'Courier New',monospace\">text:\n",
       "عاجل|تعلن وزارة الصحة عن تأكيد إصابة <span style=\"color: #008080; text-decoration-color: #008080; font-weight: bold\">6</span>,<span style=\"color: #008080; text-decoration-color: #008080; font-weight: bold\">592</span> حالة جديدة، وتسجيل <span style=\"color: #008080; text-decoration-color: #008080; font-weight: bold\">4</span>,<span style=\"color: #008080; text-decoration-color: #008080; font-weight: bold\">886</span> حالة شفاء، و <span style=\"color: #008080; text-decoration-color: #008080; font-weight: bold\">2</span> حالة وفاة جديدة بفيروس كورونا \n",
       "المستجد COVID-<span style=\"color: #008080; text-decoration-color: #008080; font-weight: bold\">19</span>، ليصبح إجمالي عدد الحالات <span style=\"color: #008080; text-decoration-color: #008080; font-weight: bold\">558</span>,<span style=\"color: #008080; text-decoration-color: #008080; font-weight: bold\">745</span> حالة بنديرة \n",
       "</pre>\n"
      ],
      "text/plain": [
       "text:\n",
       "عاجل|تعلن وزارة الصحة عن تأكيد إصابة \u001b[1;36m6\u001b[0m,\u001b[1;36m592\u001b[0m حالة جديدة، وتسجيل \u001b[1;36m4\u001b[0m,\u001b[1;36m886\u001b[0m حالة شفاء، و \u001b[1;36m2\u001b[0m حالة وفاة جديدة بفيروس كورونا \n",
       "المستجد COVID-\u001b[1;36m19\u001b[0m، ليصبح إجمالي عدد الحالات \u001b[1;36m558\u001b[0m,\u001b[1;36m745\u001b[0m حالة بنديرة \n"
      ]
     },
     "metadata": {},
     "output_type": "display_data"
    },
    {
     "data": {
      "text/html": [
       "<pre style=\"white-space:pre;overflow-x:auto;line-height:normal;font-family:Menlo,'DejaVu Sans Mono',consolas,'Courier New',monospace\">text_arabert:\n",
       "عاجل | تعلن وزار +ة ال+ صح +ة عن تأكيد إصاب +ة <span style=\"color: #008080; text-decoration-color: #008080; font-weight: bold\">6</span> , <span style=\"color: #008080; text-decoration-color: #008080; font-weight: bold\">592</span> حال +ة جديد +ة ، و+ تسجيل <span style=\"color: #008080; text-decoration-color: #008080; font-weight: bold\">4</span> , <span style=\"color: #008080; text-decoration-color: #008080; font-weight: bold\">886</span> حال +ة شفاء ، و <span style=\"color: #008080; text-decoration-color: #008080; font-weight: bold\">2</span> حال +ة \n",
       "وفا +ة جديد +ة ب+ فيروس كورونا ال+ مستجد COVID - <span style=\"color: #008080; text-decoration-color: #008080; font-weight: bold\">19</span> ، ل+ يصبح إجمالي عدد ال+ حال +ات <span style=\"color: #008080; text-decoration-color: #008080; font-weight: bold\">558</span> , <span style=\"color: #008080; text-decoration-color: #008080; font-weight: bold\">745</span> حال +ة بندير +ة \n",
       "</pre>\n"
      ],
      "text/plain": [
       "text_arabert:\n",
       "عاجل | تعلن وزار +ة ال+ صح +ة عن تأكيد إصاب +ة \u001b[1;36m6\u001b[0m , \u001b[1;36m592\u001b[0m حال +ة جديد +ة ، و+ تسجيل \u001b[1;36m4\u001b[0m , \u001b[1;36m886\u001b[0m حال +ة شفاء ، و \u001b[1;36m2\u001b[0m حال +ة \n",
       "وفا +ة جديد +ة ب+ فيروس كورونا ال+ مستجد COVID - \u001b[1;36m19\u001b[0m ، ل+ يصبح إجمالي عدد ال+ حال +ات \u001b[1;36m558\u001b[0m , \u001b[1;36m745\u001b[0m حال +ة بندير +ة \n"
      ]
     },
     "metadata": {},
     "output_type": "display_data"
    }
   ],
   "source": [
    "for k, v in data.loc[i].to_dict().items():\n",
    "    print(f'{k}:\\n{v}')"
   ]
  },
  {
   "cell_type": "code",
   "execution_count": 17,
   "metadata": {},
   "outputs": [
    {
     "name": "stdout",
     "output_type": "stream",
     "text": [
      "<class 'pandas.core.frame.DataFrame'>\n",
      "RangeIndex: 20000 entries, 0 to 19999\n",
      "Data columns (total 4 columns):\n",
      " #   Column        Non-Null Count  Dtype \n",
      "---  ------        --------------  ----- \n",
      " 0   tweet         20000 non-null  object\n",
      " 1   label         20000 non-null  object\n",
      " 2   text          20000 non-null  object\n",
      " 3   text_arabert  20000 non-null  object\n",
      "dtypes: object(4)\n",
      "memory usage: 625.1+ KB\n"
     ]
    }
   ],
   "source": [
    "data.info()"
   ]
  },
  {
   "cell_type": "code",
   "execution_count": 18,
   "metadata": {},
   "outputs": [],
   "source": [
    "train, valid = train_test_split(\n",
    "    data, test_size=0.2, stratify=data.label.to_list(), random_state=seed)\n",
    "valid, test = train_test_split(\n",
    "    valid, test_size=0.5, stratify=valid.label.to_list(), random_state=seed)"
   ]
  },
  {
   "cell_type": "code",
   "execution_count": 19,
   "metadata": {},
   "outputs": [
    {
     "name": "stdout",
     "output_type": "stream",
     "text": [
      "<class 'pandas.core.frame.DataFrame'>\n",
      "Index: 16000 entries, 2456 to 6123\n",
      "Data columns (total 4 columns):\n",
      " #   Column        Non-Null Count  Dtype \n",
      "---  ------        --------------  ----- \n",
      " 0   tweet         16000 non-null  object\n",
      " 1   label         16000 non-null  object\n",
      " 2   text          16000 non-null  object\n",
      " 3   text_arabert  16000 non-null  object\n",
      "dtypes: object(4)\n",
      "memory usage: 625.0+ KB\n"
     ]
    }
   ],
   "source": [
    "train.info()"
   ]
  },
  {
   "cell_type": "code",
   "execution_count": 20,
   "metadata": {},
   "outputs": [
    {
     "name": "stdout",
     "output_type": "stream",
     "text": [
      "<class 'pandas.core.frame.DataFrame'>\n",
      "Index: 2000 entries, 11818 to 2623\n",
      "Data columns (total 4 columns):\n",
      " #   Column        Non-Null Count  Dtype \n",
      "---  ------        --------------  ----- \n",
      " 0   tweet         2000 non-null   object\n",
      " 1   label         2000 non-null   object\n",
      " 2   text          2000 non-null   object\n",
      " 3   text_arabert  2000 non-null   object\n",
      "dtypes: object(4)\n",
      "memory usage: 78.1+ KB\n"
     ]
    }
   ],
   "source": [
    "valid.info()"
   ]
  },
  {
   "cell_type": "code",
   "execution_count": 21,
   "metadata": {},
   "outputs": [
    {
     "name": "stdout",
     "output_type": "stream",
     "text": [
      "<class 'pandas.core.frame.DataFrame'>\n",
      "Index: 2000 entries, 17770 to 12684\n",
      "Data columns (total 4 columns):\n",
      " #   Column        Non-Null Count  Dtype \n",
      "---  ------        --------------  ----- \n",
      " 0   tweet         2000 non-null   object\n",
      " 1   label         2000 non-null   object\n",
      " 2   text          2000 non-null   object\n",
      " 3   text_arabert  2000 non-null   object\n",
      "dtypes: object(4)\n",
      "memory usage: 78.1+ KB\n"
     ]
    }
   ],
   "source": [
    "test.info()"
   ]
  },
  {
   "cell_type": "code",
   "execution_count": 22,
   "metadata": {},
   "outputs": [
    {
     "data": {
      "text/plain": [
       "{'neutral': 0.863125, 'negative': 0.093, 'positive': 0.043875}"
      ]
     },
     "execution_count": 22,
     "metadata": {},
     "output_type": "execute_result"
    }
   ],
   "source": [
    "train.label.value_counts(normalize=True).to_dict()"
   ]
  },
  {
   "cell_type": "code",
   "execution_count": 23,
   "metadata": {},
   "outputs": [],
   "source": [
    "data_artifact = wandb.Artifact(name='Sentiment-Classification-Dataset', type='dataset')\n",
    "\n",
    "data_dict = {'train': train, 'valid': valid, 'test': test}\n",
    "\n",
    "for n, d in data_dict.items():\n",
    "    processed_data_path.mkdir(exist_ok=True)\n",
    "    split_path = processed_data_path.joinpath(f'{n}.csv')\n",
    "    config['data'][n] = {\n",
    "        'size': len(d),\n",
    "        'local_path': split_path,\n",
    "        'label_distribution': d.label.value_counts(normalize=True).to_dict(),\n",
    "    }\n",
    "    d.to_csv(split_path, index=False)\n",
    "    data_artifact.add_file(local_path=split_path, name=n)"
   ]
  },
  {
   "cell_type": "code",
   "execution_count": 24,
   "metadata": {},
   "outputs": [
    {
     "data": {
      "text/html": [
       "<pre style=\"white-space:pre;overflow-x:auto;line-height:normal;font-family:Menlo,'DejaVu Sans Mono',consolas,'Courier New',monospace\"><span style=\"color: #800080; text-decoration-color: #800080; font-weight: bold\">defaultdict</span><span style=\"font-weight: bold\">(&lt;</span><span style=\"color: #ff00ff; text-decoration-color: #ff00ff; font-weight: bold\">class</span><span style=\"color: #000000; text-decoration-color: #000000\"> </span><span style=\"color: #008000; text-decoration-color: #008000\">'dict'</span><span style=\"font-weight: bold\">&gt;</span>, <span style=\"font-weight: bold\">{</span>\n",
       "    <span style=\"color: #008000; text-decoration-color: #008000\">'data'</span>: <span style=\"font-weight: bold\">{</span>\n",
       "        <span style=\"color: #008000; text-decoration-color: #008000\">'train'</span>: <span style=\"font-weight: bold\">{</span>\n",
       "            <span style=\"color: #008000; text-decoration-color: #008000\">'size'</span>: <span style=\"color: #008080; text-decoration-color: #008080; font-weight: bold\">16000</span>,\n",
       "            <span style=\"color: #008000; text-decoration-color: #008000\">'local_path'</span>: <span style=\"color: #800080; text-decoration-color: #800080; font-weight: bold\">PosixPath</span><span style=\"font-weight: bold\">(</span><span style=\"color: #008000; text-decoration-color: #008000\">'../data/processed_data/train.csv'</span><span style=\"font-weight: bold\">)</span>,\n",
       "            <span style=\"color: #008000; text-decoration-color: #008000\">'label_distribution'</span>: <span style=\"font-weight: bold\">{</span><span style=\"color: #008000; text-decoration-color: #008000\">'neutral'</span>: <span style=\"color: #008080; text-decoration-color: #008080; font-weight: bold\">0.863125</span>, <span style=\"color: #008000; text-decoration-color: #008000\">'negative'</span>: <span style=\"color: #008080; text-decoration-color: #008080; font-weight: bold\">0.093</span>, <span style=\"color: #008000; text-decoration-color: #008000\">'positive'</span>: <span style=\"color: #008080; text-decoration-color: #008080; font-weight: bold\">0.043875</span><span style=\"font-weight: bold\">}</span>\n",
       "        <span style=\"font-weight: bold\">}</span>,\n",
       "        <span style=\"color: #008000; text-decoration-color: #008000\">'valid'</span>: <span style=\"font-weight: bold\">{</span>\n",
       "            <span style=\"color: #008000; text-decoration-color: #008000\">'size'</span>: <span style=\"color: #008080; text-decoration-color: #008080; font-weight: bold\">2000</span>,\n",
       "            <span style=\"color: #008000; text-decoration-color: #008000\">'local_path'</span>: <span style=\"color: #800080; text-decoration-color: #800080; font-weight: bold\">PosixPath</span><span style=\"font-weight: bold\">(</span><span style=\"color: #008000; text-decoration-color: #008000\">'../data/processed_data/valid.csv'</span><span style=\"font-weight: bold\">)</span>,\n",
       "            <span style=\"color: #008000; text-decoration-color: #008000\">'label_distribution'</span>: <span style=\"font-weight: bold\">{</span><span style=\"color: #008000; text-decoration-color: #008000\">'neutral'</span>: <span style=\"color: #008080; text-decoration-color: #008080; font-weight: bold\">0.863</span>, <span style=\"color: #008000; text-decoration-color: #008000\">'negative'</span>: <span style=\"color: #008080; text-decoration-color: #008080; font-weight: bold\">0.093</span>, <span style=\"color: #008000; text-decoration-color: #008000\">'positive'</span>: <span style=\"color: #008080; text-decoration-color: #008080; font-weight: bold\">0.044</span><span style=\"font-weight: bold\">}</span>\n",
       "        <span style=\"font-weight: bold\">}</span>,\n",
       "        <span style=\"color: #008000; text-decoration-color: #008000\">'test'</span>: <span style=\"font-weight: bold\">{</span>\n",
       "            <span style=\"color: #008000; text-decoration-color: #008000\">'size'</span>: <span style=\"color: #008080; text-decoration-color: #008080; font-weight: bold\">2000</span>,\n",
       "            <span style=\"color: #008000; text-decoration-color: #008000\">'local_path'</span>: <span style=\"color: #800080; text-decoration-color: #800080; font-weight: bold\">PosixPath</span><span style=\"font-weight: bold\">(</span><span style=\"color: #008000; text-decoration-color: #008000\">'../data/processed_data/test.csv'</span><span style=\"font-weight: bold\">)</span>,\n",
       "            <span style=\"color: #008000; text-decoration-color: #008000\">'label_distribution'</span>: <span style=\"font-weight: bold\">{</span><span style=\"color: #008000; text-decoration-color: #008000\">'neutral'</span>: <span style=\"color: #008080; text-decoration-color: #008080; font-weight: bold\">0.863</span>, <span style=\"color: #008000; text-decoration-color: #008000\">'negative'</span>: <span style=\"color: #008080; text-decoration-color: #008080; font-weight: bold\">0.093</span>, <span style=\"color: #008000; text-decoration-color: #008000\">'positive'</span>: <span style=\"color: #008080; text-decoration-color: #008080; font-weight: bold\">0.044</span><span style=\"font-weight: bold\">}</span>\n",
       "        <span style=\"font-weight: bold\">}</span>\n",
       "    <span style=\"font-weight: bold\">}</span>\n",
       "<span style=\"font-weight: bold\">})</span>\n",
       "</pre>\n"
      ],
      "text/plain": [
       "\u001b[1;35mdefaultdict\u001b[0m\u001b[1m(\u001b[0m\u001b[1m<\u001b[0m\u001b[1;95mclass\u001b[0m\u001b[39m \u001b[0m\u001b[32m'dict'\u001b[0m\u001b[1m>\u001b[0m, \u001b[1m{\u001b[0m\n",
       "    \u001b[32m'data'\u001b[0m: \u001b[1m{\u001b[0m\n",
       "        \u001b[32m'train'\u001b[0m: \u001b[1m{\u001b[0m\n",
       "            \u001b[32m'size'\u001b[0m: \u001b[1;36m16000\u001b[0m,\n",
       "            \u001b[32m'local_path'\u001b[0m: \u001b[1;35mPosixPath\u001b[0m\u001b[1m(\u001b[0m\u001b[32m'../data/processed_data/train.csv'\u001b[0m\u001b[1m)\u001b[0m,\n",
       "            \u001b[32m'label_distribution'\u001b[0m: \u001b[1m{\u001b[0m\u001b[32m'neutral'\u001b[0m: \u001b[1;36m0.863125\u001b[0m, \u001b[32m'negative'\u001b[0m: \u001b[1;36m0.093\u001b[0m, \u001b[32m'positive'\u001b[0m: \u001b[1;36m0.043875\u001b[0m\u001b[1m}\u001b[0m\n",
       "        \u001b[1m}\u001b[0m,\n",
       "        \u001b[32m'valid'\u001b[0m: \u001b[1m{\u001b[0m\n",
       "            \u001b[32m'size'\u001b[0m: \u001b[1;36m2000\u001b[0m,\n",
       "            \u001b[32m'local_path'\u001b[0m: \u001b[1;35mPosixPath\u001b[0m\u001b[1m(\u001b[0m\u001b[32m'../data/processed_data/valid.csv'\u001b[0m\u001b[1m)\u001b[0m,\n",
       "            \u001b[32m'label_distribution'\u001b[0m: \u001b[1m{\u001b[0m\u001b[32m'neutral'\u001b[0m: \u001b[1;36m0.863\u001b[0m, \u001b[32m'negative'\u001b[0m: \u001b[1;36m0.093\u001b[0m, \u001b[32m'positive'\u001b[0m: \u001b[1;36m0.044\u001b[0m\u001b[1m}\u001b[0m\n",
       "        \u001b[1m}\u001b[0m,\n",
       "        \u001b[32m'test'\u001b[0m: \u001b[1m{\u001b[0m\n",
       "            \u001b[32m'size'\u001b[0m: \u001b[1;36m2000\u001b[0m,\n",
       "            \u001b[32m'local_path'\u001b[0m: \u001b[1;35mPosixPath\u001b[0m\u001b[1m(\u001b[0m\u001b[32m'../data/processed_data/test.csv'\u001b[0m\u001b[1m)\u001b[0m,\n",
       "            \u001b[32m'label_distribution'\u001b[0m: \u001b[1m{\u001b[0m\u001b[32m'neutral'\u001b[0m: \u001b[1;36m0.863\u001b[0m, \u001b[32m'negative'\u001b[0m: \u001b[1;36m0.093\u001b[0m, \u001b[32m'positive'\u001b[0m: \u001b[1;36m0.044\u001b[0m\u001b[1m}\u001b[0m\n",
       "        \u001b[1m}\u001b[0m\n",
       "    \u001b[1m}\u001b[0m\n",
       "\u001b[1m}\u001b[0m\u001b[1m)\u001b[0m\n"
      ]
     },
     "metadata": {},
     "output_type": "display_data"
    }
   ],
   "source": [
    "print(config)"
   ]
  },
  {
   "cell_type": "code",
   "execution_count": 25,
   "metadata": {},
   "outputs": [
    {
     "data": {
      "application/vnd.jupyter.widget-view+json": {
       "model_id": "5108ff2ade8a4c87b3cd703afd1e30d4",
       "version_major": 2,
       "version_minor": 0
      },
      "text/plain": [
       "VBox(children=(Label(value='Waiting for wandb.init()...\\r'), FloatProgress(value=0.011367479422218215, max=1.0…"
      ]
     },
     "metadata": {},
     "output_type": "display_data"
    },
    {
     "data": {
      "text/html": [
       "Tracking run with wandb version 0.17.8"
      ],
      "text/plain": [
       "<IPython.core.display.HTML object>"
      ]
     },
     "metadata": {},
     "output_type": "display_data"
    },
    {
     "data": {
      "text/html": [
       "Run data is saved locally in <code>/mnt/d/Programming Projects/Arabic Disambiguation Study/notebooks/wandb/run-20240913_033319-yd7k0qja</code>"
      ],
      "text/plain": [
       "<IPython.core.display.HTML object>"
      ]
     },
     "metadata": {},
     "output_type": "display_data"
    },
    {
     "data": {
      "text/html": [
       "Syncing run <strong><a href='https://wandb.ai/e_hossam96/ARABIC_DISAMBIGUATION_STUDY/runs/yd7k0qja' target=\"_blank\">Data_Preprocessing</a></strong> to <a href='https://wandb.ai/e_hossam96/ARABIC_DISAMBIGUATION_STUDY' target=\"_blank\">Weights & Biases</a> (<a href='https://wandb.me/run' target=\"_blank\">docs</a>)<br/>"
      ],
      "text/plain": [
       "<IPython.core.display.HTML object>"
      ]
     },
     "metadata": {},
     "output_type": "display_data"
    },
    {
     "data": {
      "text/html": [
       " View project at <a href='https://wandb.ai/e_hossam96/ARABIC_DISAMBIGUATION_STUDY' target=\"_blank\">https://wandb.ai/e_hossam96/ARABIC_DISAMBIGUATION_STUDY</a>"
      ],
      "text/plain": [
       "<IPython.core.display.HTML object>"
      ]
     },
     "metadata": {},
     "output_type": "display_data"
    },
    {
     "data": {
      "text/html": [
       " View run at <a href='https://wandb.ai/e_hossam96/ARABIC_DISAMBIGUATION_STUDY/runs/yd7k0qja' target=\"_blank\">https://wandb.ai/e_hossam96/ARABIC_DISAMBIGUATION_STUDY/runs/yd7k0qja</a>"
      ],
      "text/plain": [
       "<IPython.core.display.HTML object>"
      ]
     },
     "metadata": {},
     "output_type": "display_data"
    }
   ],
   "source": [
    "run = wandb.init(project=PROJECT_NAME, job_type=JOB_TYPE, name=RUN_NAME, notes=NOTES, tags=TAGS, config=config)"
   ]
  },
  {
   "cell_type": "code",
   "execution_count": 26,
   "metadata": {},
   "outputs": [],
   "source": [
    "_ = run.log_artifact(data_artifact)"
   ]
  },
  {
   "cell_type": "code",
   "execution_count": 27,
   "metadata": {},
   "outputs": [
    {
     "data": {
      "application/vnd.jupyter.widget-view+json": {
       "model_id": "",
       "version_major": 2,
       "version_minor": 0
      },
      "text/plain": [
       "VBox(children=(Label(value='17.393 MB of 17.412 MB uploaded\\r'), FloatProgress(value=0.9989003562983617, max=1…"
      ]
     },
     "metadata": {},
     "output_type": "display_data"
    },
    {
     "data": {
      "text/html": [
       " View run <strong style=\"color:#cdcd00\">Data_Preprocessing</strong> at: <a href='https://wandb.ai/e_hossam96/ARABIC_DISAMBIGUATION_STUDY/runs/yd7k0qja' target=\"_blank\">https://wandb.ai/e_hossam96/ARABIC_DISAMBIGUATION_STUDY/runs/yd7k0qja</a><br/> View project at: <a href='https://wandb.ai/e_hossam96/ARABIC_DISAMBIGUATION_STUDY' target=\"_blank\">https://wandb.ai/e_hossam96/ARABIC_DISAMBIGUATION_STUDY</a><br/>Synced 5 W&B file(s), 0 media file(s), 5 artifact file(s) and 0 other file(s)"
      ],
      "text/plain": [
       "<IPython.core.display.HTML object>"
      ]
     },
     "metadata": {},
     "output_type": "display_data"
    },
    {
     "data": {
      "text/html": [
       "Find logs at: <code>./wandb/run-20240913_033319-yd7k0qja/logs</code>"
      ],
      "text/plain": [
       "<IPython.core.display.HTML object>"
      ]
     },
     "metadata": {},
     "output_type": "display_data"
    },
    {
     "data": {
      "text/html": [
       "The new W&B backend becomes opt-out in version 0.18.0; try it out with `wandb.require(\"core\")`! See https://wandb.me/wandb-core for more information."
      ],
      "text/plain": [
       "<IPython.core.display.HTML object>"
      ]
     },
     "metadata": {},
     "output_type": "display_data"
    }
   ],
   "source": [
    "run.finish()"
   ]
  }
 ],
 "metadata": {
  "kernelspec": {
   "display_name": "Python 3 (ipykernel)",
   "language": "python",
   "name": "python3"
  },
  "language_info": {
   "codemirror_mode": {
    "name": "ipython",
    "version": 3
   },
   "file_extension": ".py",
   "mimetype": "text/x-python",
   "name": "python",
   "nbconvert_exporter": "python",
   "pygments_lexer": "ipython3",
   "version": "3.11.9"
  }
 },
 "nbformat": 4,
 "nbformat_minor": 4
}
